{
 "cells": [
  {
   "cell_type": "markdown",
   "metadata": {},
   "source": [
    "# COGS 108 - Final Project (Stock Market Data and Its Relation to Tourism)\n"
   ]
  },
  {
   "cell_type": "markdown",
   "metadata": {},
   "source": [
    "## Permissions\n",
    "\n",
    "Place an `X` in the appropriate bracket below to specify if you would like your group's project to be made available to the public. (Note that student names will be included (but PIDs will be scraped from any groups who include their PIDs).\n",
    "\n",
    "* [  ] YES - make available\n",
    "* [ X ] NO - keep private"
   ]
  },
  {
   "cell_type": "markdown",
   "metadata": {},
   "source": [
    "## Link to Video\n",
    "https://youtu.be/0JG4buIPtu8 "
   ]
  },
  {
   "cell_type": "markdown",
   "metadata": {},
   "source": [
    "# Overview"
   ]
  },
  {
   "cell_type": "markdown",
   "metadata": {},
   "source": [
    "This project looked at data from the stock market - specifically the close data for S&P 500 over the course of two years and the close data for the 10 most popular tourism companies. We used scatter plots, line graphs, and linear regression models to determine if there was a statistically positive correlation between the tourism industry in relation to how the stock market is doing overall. Throughout this project, we wanted to find if our intuitions fit the data and determine the trends in the data."
   ]
  },
  {
   "cell_type": "markdown",
   "metadata": {},
   "source": [
    "# Names\n",
    "\n",
    "- Kevin Su\n",
    "- Sujana Nagasuri\n",
    "- Shenova Davis\n",
    "- Jahnavi Handral\n",
    "- Muskaan Bajaj"
   ]
  },
  {
   "cell_type": "markdown",
   "metadata": {},
   "source": [
    "<a id='research_question'></a>\n",
    "# Research Question"
   ]
  },
  {
   "cell_type": "markdown",
   "metadata": {},
   "source": [
    "From the beginning of 2018 to the end of 2019, was there a statistically significant positive correlation between tourism in terms of the success of the hospitality industry and the overall health of the stock market determined by the close data of S&P 500 and close data from the 10 most successful companies in the hospitality industry?"
   ]
  },
  {
   "cell_type": "markdown",
   "metadata": {},
   "source": [
    "<a id='background'></a>\n",
    "\n",
    "## Background & Prior Work"
   ]
  },
  {
   "cell_type": "markdown",
   "metadata": {},
   "source": [
    "As tourism develops into one of the biggest revenue-generating industries in the US, it has become an important lifestyle of the current generation and a huge contributor to the current economy. One of the other major contributors to the current economy, if not the biggest, is the public trading stock. While more than half of the American population owns stock, this project is intended to explore the relationship between tourism in the U.S and the status of the US stock market.\n",
    "\n",
    "This research is mainly going to focus on the 10 most relevant companies in relation to the tourism industry and their associated stock market data, particularly stock price. The main indicators of the tourism industry can be categorized into 4 main categories: travel & tourism, food & beverage, lodging, and outdoor/recreation. Of these categories we analyzed Disney, Hilton, Marriott International, Marriott Vacation, Pepsi, Tyson, Nestle, International Hotel Group, Experian, and Booking. The S&P 500 index tracker and the associated close data (the price of the stock at the time the stock market closes) would be used as a main indicator of the stock market. \n",
    "\n",
    "Previous study done by Dr. Tsai at University of Nevada has gone through the correlation of stock prices and interest rate on tourism consumption in a very detailed manner. He utilized multiple stock index indicators and tourism-related data and came up with the conclusion that stock prices and interest rates had a positive impact on tourism consumption from 1989 to 1999 [2]. Another research published by Hindawi used a computable general equilibrium model to show there is a close correlation between tourism and economy and how tourism can aid economic growth rapidly [1].\n",
    "Overall, studies have confirmed that there is a significant correlation between the tourism industry and the economy, but the specific relationship between S&P 500 stocks and specific tourism companies in relation to the close rate remains unknown.\n",
    "\n",
    "Reference:\n",
    "[1] https://www.hindawi.com/journals/jmath/2022/4275698/ “The quantitative analysis results made by using the econometric model fully show that the development of tourism is closely related to the economy, and the development of tourism can drive the rapid development of the economy.“\n",
    "\n",
    "[2] https://journals.sagepub.com/doi/pdf/10.1177/21582440211040120 “For Las Vegas, Orlando, and the U.S. as a whole, interest rates did have certain impacts on tourism consumption, given the discussion in summary of findings in chapter four, and the findings were similar to some of prior research. “ “ As described in chapter one and two, prior studies showed that stock prices have positive effects on consumer spending. “\n"
   ]
  },
  {
   "cell_type": "markdown",
   "metadata": {},
   "source": [
    "# Hypothesis\n"
   ]
  },
  {
   "cell_type": "markdown",
   "metadata": {},
   "source": [
    "We predict that there will be an overall positive correlation between the close rates of the main companies in the hospitality industry and the close rate of the S&P 500 data. Based on our background research, we see that experts have already posited a positive correlation between both industries so we feel inclined to see a positive correlation between the data. We expect reasons for this positive correlation to be tied into the fact that when the economy is good, people have more money to spend on traveling and feel more secure in taking leisure trips."
   ]
  },
  {
   "cell_type": "markdown",
   "metadata": {},
   "source": [
    "# Dataset(s)"
   ]
  },
  {
   "cell_type": "markdown",
   "metadata": {},
   "source": [
    "**Data Set #1: S&P 500 stocks index**\n",
    "\n",
    "Link:https://github.com/COGS108/Group_067-Fa22/blob/master/S%26Pdata.csv\n",
    "\n",
    "Access to the weekly open, high, low and close stock price for S&P 500 from Jan 1, 2018 to Dec 31, 2018.\n",
    "number of observations: 1506\n",
    "\n",
    "\n",
    "**Data Set #2: Disney Stocks index**\n",
    "\n",
    "Link:https://github.com/COGS108/Group_067-Fa22/blob/master/WaltDisneydata.csv \n",
    "\n",
    "Access to the weekly open, high, low and close stock price for Disney from Jan 1, 2018 to Dec 31, 2018.\n",
    "number of observations: 1255\n",
    "\n",
    "\n",
    "**Data Set #3: Hilton Worldwide Holdings Inc stocks index**\n",
    "\n",
    "Link:https://github.com/COGS108/Group_067-Fa22/blob/master/Hiltondata.csv \n",
    "\n",
    "Access to the weekly open, high, low and close stock price for Hilton Worldwide Holdings Inc from Jan 1, 2018 to Dec 31, 2018.\n",
    "number of observations: 1255\n",
    "\n",
    "\n",
    "**Data Set #4: Marriott International Inc stocks index**\n",
    "\n",
    "Link:https://github.com/COGS108/Group_067-Fa22/blob/master/MarriotINTdata.csv \n",
    "\n",
    "Access to the weekly open, high, low and close stock price for Marriott International Inc from Jan 1, 2018 to Dec 31, 2018.\n",
    "number of observations: 1255\n",
    "\n",
    "\n",
    "**Data Set #5: PepsiCo stocks index**\n",
    "\n",
    "Link:https://github.com/COGS108/Group_067-Fa22/blob/master/PepsiCodata.csv \n",
    "\n",
    "Access to the weekly open, high, low and close stock price for PepsiCo stocks index from Jan 1, 2018 to Dec 31, 2018.\n",
    "number of observations: 1255\n",
    "\n",
    "\n",
    "**Data Set #6: Tyson Foods, Inc. stocks index**\n",
    "\n",
    "Link:https://github.com/COGS108/Group_067-Fa22/blob/master/TYSONdata.csv \n",
    "\n",
    "Access to the weekly open, high, low and close stock price for Tyson Foods, Inc. index from Jan 1, 2018 to Dec 31, 2018.\n",
    "number of observations: 1255\n",
    "\n",
    "\n",
    "**Data Set #7: Nestle**\n",
    "\n",
    "Link:https://github.com/COGS108/Group_067-Fa22/blob/master/Nestledata.csv \n",
    "\n",
    "Access to the weekly open, high, low and close stock price for Nestle index from Jan 1, 2018 to Dec 31, 2018.\n",
    "number of observations: 1255\n",
    "\n",
    "\n",
    "**Data Set #8: InterContinental Hotels Group PLC**\n",
    "\n",
    "Link: https://github.com/COGS108/Group_067-Fa22/blob/master/IHGdata.csv\n",
    "\n",
    "Access to the weekly open, high, low and close stock price for InterContinental Hotels Group PLC index from Jan 1, 2018 to Dec 31, 2018.\n",
    "number of observations: 1255\n",
    "\n",
    "\n",
    "**Data Set #9: Expedia Group Inc**\n",
    "\n",
    "Link:https://github.com/COGS108/Group_067-Fa22/blob/master/EXPdata.csv \n",
    "\n",
    "Access to the weekly open, high, low and close stock price for Expedia Group Inc index from Jan 1, 2018 to Dec 31, 2018.\n",
    "number of observations: 1255\n",
    "\n",
    "\n",
    "**Data Set #10: Booking Holdings Inc**\n",
    "\n",
    "Link:https://github.com/COGS108/Group_067-Fa22/blob/master/BKNGdata.csv \n",
    "\n",
    "Access to the weekly open, high, low and close stock price for Booking Holdings Inc index from Jan 1, 2018 to Dec 31, 2018.\n",
    "number of observations: 1255\n",
    "\n",
    "\n",
    "**Data Set #11: Hilton**\n",
    "\n",
    "Link:https://github.com/COGS108/Group_067-Fa22/blob/master/Hiltondata.csv \n",
    "\n",
    "Access to the weekly open, high, low and close stock price for Hilton index from Jan 1, 2018 to Dec 31, 2018.\n",
    "number of observations: 1255\n",
    "\n",
    "\n",
    "**Data Set #12: Marriott Vacations Worldwide Corp**\n",
    "\n",
    "Link:https://github.com/COGS108/Group_067-Fa22/blob/master/MarriotVACdata.csv \n",
    "\n",
    "Access to the weekly open, high, low and close stock price for Marriott Vacations Worldwide Corp index from Jan 1, 2018 to Dec 31, 2018.\n",
    "number of observations: 1255\n",
    "\n",
    "\n",
    "**Data Set #13: S&P 500 stocks index 2**\n",
    "\n",
    "Link:https://github.com/COGS108/Group_067-Fa22/blob/master/S%26Pdata2.csv \n",
    "\n",
    "Access to the weekly open, high, low and close stock price for S&P 500 from Jan 1, 2019 to Dec 31, 2019.\n",
    "number of observations: 1506\n",
    "\n",
    "\n",
    "**Data Set #14: Disney Stocks index 2**\n",
    "\n",
    "Link:https://github.com/COGS108/Group_067-Fa22/blob/master/WaltDisneydata2.csv \n",
    "\n",
    "Access to the weekly open, high, low and close stock price for Disney from Jan 1, 2019 to Dec 31, 2019.\n",
    "number of observations: 1255\n",
    "\n",
    "\n",
    "**Data Set #15: Hilton Worldwide Holdings Inc stocks index 2**\n",
    "\n",
    "Link:https://github.com/COGS108/Group_067-Fa22/blob/master/Hiltondata2.csv \n",
    "\n",
    "Access to the weekly open, high, low and close stock price for Hilton Worldwide Holdings Inc from Jan 1, 2019 to Dec 31, 2019.\n",
    "number of observations: 1255\n",
    "\n",
    "\n",
    "**Data Set #16: Marriott International Inc stocks index 2**\n",
    "\n",
    "Link:https://github.com/COGS108/Group_067-Fa22/blob/master/MarriotINT2data.csv \n",
    "\n",
    "Access to the weekly open, high, low and close stock price for Marriott International Inc from Jan 1, 2019 to Dec 31, 2019.\n",
    "number of observations: 1255\n",
    "\n",
    "\n",
    "**Data Set #17: PepsiCo stocks index 2**\n",
    "\n",
    "Link:https://github.com/COGS108/Group_067-Fa22/blob/master/PepsiCodata2.csv \n",
    "\n",
    "Access to the weekly open, high, low and close stock price for PepsiCo stocks index from Jan 1, 2019 to Dec 31, 2019.\n",
    "number of observations: 1255\n",
    "\n",
    "\n",
    "**Data Set #18: Tyson Foods, Inc. stocks index 2**\n",
    "\n",
    "Link:https://github.com/COGS108/Group_067-Fa22/blob/master/TYSONdata2.csv \n",
    "\n",
    "Access to the weekly open, high, low and close stock price for Tyson Foods, Inc. index from Jan 1, 2019 to Dec 31, 2019.\n",
    "number of observations: 1255\n",
    "\n",
    "\n",
    "**Data Set #19: Nestle 2**\n",
    "\n",
    "Link:https://github.com/COGS108/Group_067-Fa22/blob/master/Nestledata2.csv \n",
    "\n",
    "Access to the weekly open, high, low and close stock price for Nestle index from Jan 1, 2019 to Dec 31, 2019.\n",
    "number of observations: 1255\n",
    "\n",
    "\n",
    "**Data Set #20: InterContinental Hotels Group PLC 2**\n",
    "\n",
    "Link: https://github.com/COGS108/Group_067-Fa22/blob/master/IHGdata2.csv \n",
    "\n",
    "Access to the weekly open, high, low and close stock price for InterContinental Hotels Group PLC index from Jan 1, 2019 to Dec 31, 2019.\n",
    "number of observations: 1255\n",
    "\n",
    "\n",
    "**Data Set #21: Expedia Group Inc 2**\n",
    "\n",
    "Link:https://github.com/COGS108/Group_067-Fa22/blob/master/EXPdata2.csv \n",
    "\n",
    "Access to the weekly open, high, low and close stock price for Expedia Group Inc index from Jan 1, 2019 to Dec 31, 2019.\n",
    "number of observations: 1255\n",
    "\n",
    "\n",
    "**Data Set #22: Booking Holdings Inc 2**\n",
    "\n",
    "Link:https://github.com/COGS108/Group_067-Fa22/blob/master/BKNGdata2.csv \n",
    "\n",
    "Access to the weekly open, high, low and close stock price for Booking Holdings Inc index from Jan 1, 2019 to Dec 31, 2019.\n",
    "number of observations: 1255\n",
    "\n",
    "**Data Set #23: Hilton 2**\n",
    "\n",
    "Link:https://github.com/COGS108/Group_067-Fa22/blob/master/Hiltondata2.csv \n",
    "\n",
    "Access to the weekly open, high, low and close stock price for Hilton index from Jan 1, 2019 to Dec 31, 2019.\n",
    "number of observations: 1255\n",
    "\n",
    "\n",
    "**Data Set #24: Marriott Vacations Worldwide Corp 2**\n",
    "\n",
    "Link:https://github.com/COGS108/Group_067-Fa22/blob/master/MarriotVACdata2.csv \n",
    "Access to the weekly open, high, low and close stock price for Marriott Vacations Worldwide Corp index from Jan 1, 2019 to Dec 31, 2019.\n",
    "number of observations: 1255\n"
   ]
  },
  {
   "cell_type": "markdown",
   "metadata": {},
   "source": [
    "We have a large number of datasets because we wanted to gather the stock market from S&P and all 10 companies. Since Marketwatch only allows us to download data for one company at a time for one year we had to download separate CSV’s for each year and company and concatenate them.\n"
   ]
  },
  {
   "cell_type": "markdown",
   "metadata": {},
   "source": [
    "# Setup"
   ]
  },
  {
   "cell_type": "code",
   "execution_count": 1,
   "metadata": {},
   "outputs": [],
   "source": [
    "import pandas as pd \n",
    "import numpy as np\n",
    "import seaborn as sns \n",
    "import matplotlib.pyplot as plt\n",
    "\n",
    "import warnings\n",
    "warnings.filterwarnings('ignore')\n",
    "pd.set_option(\"display.max_columns\", 104)\n",
    "import patsy\n",
    "import statsmodels.api as sm\n",
    "import scipy.stats as stats\n",
    "from scipy.stats import ttest_ind, chisquare, normaltest"
   ]
  },
  {
   "cell_type": "code",
   "execution_count": 2,
   "metadata": {},
   "outputs": [],
   "source": [
    "df1 = pd.read_csv('S&Pdata.csv')\n",
    "df2 = pd.read_csv('WaltDisneydata.csv')\n",
    "df3 = pd.read_csv('Hiltondata.csv')\n",
    "df4 = pd.read_csv('MarriotINTdata.csv')\n",
    "df5 = pd.read_csv('MarriotVACdata.csv')\n",
    "df6 = pd.read_csv('PepsiCodata.csv')\n",
    "df7 = pd.read_csv('TYSONdata.csv')\n",
    "df8 = pd.read_csv('Nestledata.csv')\n",
    "df9 = pd.read_csv('IHGdata.csv')\n",
    "df10 = pd.read_csv('EXPdata.csv')\n",
    "df11 = pd.read_csv('BKNGdata.csv')"
   ]
  },
  {
   "cell_type": "code",
   "execution_count": 3,
   "metadata": {},
   "outputs": [],
   "source": [
    "df_a = pd.read_csv('S&Pdata2.csv')\n",
    "df_b = pd.read_csv('WaltDisneydata2.csv')\n",
    "df_c = pd.read_csv('Hiltondata2.csv')\n",
    "df_d = pd.read_csv('MarriotINT2data.csv')\n",
    "df_e = pd.read_csv('MarriotVACdata2.csv')\n",
    "df_f = pd.read_csv('PepsiCodata2.csv')\n",
    "df_g = pd.read_csv('TYSONdata2.csv')\n",
    "df_h = pd.read_csv('Nestledata2.csv')\n",
    "df_i = pd.read_csv('IHGdata2.csv')\n",
    "df_j = pd.read_csv('EXPdata2.csv')\n",
    "df_k = pd.read_csv('BKNGdata2.csv')"
   ]
  },
  {
   "cell_type": "markdown",
   "metadata": {},
   "source": [
    "Note that we only used 2 years of data on purpose because we wanted to get the most reflective picture of tourism in relation to the stock market. We chose 2018 and 2019 specifically because the economy was relatively stable at that point. In 2016 and 2017, due to the presidential election there was quite a bit of flux which would have impacted our data significantly. Additionally, 2020 and onwards was significantly impacted by the pandemic. "
   ]
  },
  {
   "cell_type": "markdown",
   "metadata": {},
   "source": [
    "# Data Cleaning"
   ]
  },
  {
   "cell_type": "markdown",
   "metadata": {},
   "source": [
    "We began our data cleaning step by combining data frames across years together. For instance we took the 2018 data from one company and combined it with the 2019 data for the same company and did this to create 11 sets of data. \n",
    " \n",
    "Then, we started dropping columns we deemed irrelevant to what we were trying to measure. The S&P dataframe only had 3 columns to drop but the other dataframes for the companies had 4 columns to drop as we were only looking at close data as an indicator of stock market price. Then, after determining the types in the columns, we changed the types (objects) to floats. We then created our initial dataframe which included the columns with the date and the S&P close price for each date. Based on that we were able to create another dataframe with columns of the date, the combined close price for the hospitality industry, the close price for the S&P 500, and the ratio of hospitality close to S&P 500 close. \n",
    " \n",
    "Then we created our final dataframe which included columns of  the date, the combined close price for the hospitality industry, the close price for the S&P 500, the ratio of hospitality close to S&P 500 close, the relative difference ratio, hospitality close ratio, and the S&P 500 close ratio. We used this dataframe to conduct our analysis.\n"
   ]
  },
  {
   "cell_type": "code",
   "execution_count": 4,
   "metadata": {},
   "outputs": [
    {
     "data": {
      "text/html": [
       "<div>\n",
       "<style scoped>\n",
       "    .dataframe tbody tr th:only-of-type {\n",
       "        vertical-align: middle;\n",
       "    }\n",
       "\n",
       "    .dataframe tbody tr th {\n",
       "        vertical-align: top;\n",
       "    }\n",
       "\n",
       "    .dataframe thead th {\n",
       "        text-align: right;\n",
       "    }\n",
       "</style>\n",
       "<table border=\"1\" class=\"dataframe\">\n",
       "  <thead>\n",
       "    <tr style=\"text-align: right;\">\n",
       "      <th></th>\n",
       "      <th>Date</th>\n",
       "      <th>Open</th>\n",
       "      <th>High</th>\n",
       "      <th>Low</th>\n",
       "      <th>Close</th>\n",
       "      <th>Volume</th>\n",
       "    </tr>\n",
       "  </thead>\n",
       "  <tbody>\n",
       "    <tr>\n",
       "      <th>0</th>\n",
       "      <td>12/31/2019</td>\n",
       "      <td>143.67</td>\n",
       "      <td>144.77</td>\n",
       "      <td>143.26</td>\n",
       "      <td>144.63</td>\n",
       "      <td>5,663,965</td>\n",
       "    </tr>\n",
       "    <tr>\n",
       "      <th>1</th>\n",
       "      <td>12/30/2019</td>\n",
       "      <td>145.75</td>\n",
       "      <td>145.87</td>\n",
       "      <td>143.40</td>\n",
       "      <td>143.77</td>\n",
       "      <td>6,605,481</td>\n",
       "    </tr>\n",
       "    <tr>\n",
       "      <th>2</th>\n",
       "      <td>12/27/2019</td>\n",
       "      <td>146.05</td>\n",
       "      <td>146.51</td>\n",
       "      <td>145.45</td>\n",
       "      <td>145.75</td>\n",
       "      <td>5,497,500</td>\n",
       "    </tr>\n",
       "    <tr>\n",
       "      <th>3</th>\n",
       "      <td>12/26/2019</td>\n",
       "      <td>145.40</td>\n",
       "      <td>145.86</td>\n",
       "      <td>145.17</td>\n",
       "      <td>145.70</td>\n",
       "      <td>4,431,113</td>\n",
       "    </tr>\n",
       "    <tr>\n",
       "      <th>4</th>\n",
       "      <td>12/24/2019</td>\n",
       "      <td>144.58</td>\n",
       "      <td>145.43</td>\n",
       "      <td>144.45</td>\n",
       "      <td>145.29</td>\n",
       "      <td>3,508,541</td>\n",
       "    </tr>\n",
       "    <tr>\n",
       "      <th>...</th>\n",
       "      <td>...</td>\n",
       "      <td>...</td>\n",
       "      <td>...</td>\n",
       "      <td>...</td>\n",
       "      <td>...</td>\n",
       "      <td>...</td>\n",
       "    </tr>\n",
       "    <tr>\n",
       "      <th>498</th>\n",
       "      <td>01/08/2018</td>\n",
       "      <td>110.89</td>\n",
       "      <td>111.28</td>\n",
       "      <td>109.54</td>\n",
       "      <td>110.02</td>\n",
       "      <td>8,052,594</td>\n",
       "    </tr>\n",
       "    <tr>\n",
       "      <th>499</th>\n",
       "      <td>01/05/2018</td>\n",
       "      <td>112.68</td>\n",
       "      <td>112.68</td>\n",
       "      <td>111.24</td>\n",
       "      <td>111.62</td>\n",
       "      <td>6,008,285</td>\n",
       "    </tr>\n",
       "    <tr>\n",
       "      <th>500</th>\n",
       "      <td>01/04/2018</td>\n",
       "      <td>112.95</td>\n",
       "      <td>113.00</td>\n",
       "      <td>111.63</td>\n",
       "      <td>112.23</td>\n",
       "      <td>7,417,409</td>\n",
       "    </tr>\n",
       "    <tr>\n",
       "      <th>501</th>\n",
       "      <td>01/03/2018</td>\n",
       "      <td>112.19</td>\n",
       "      <td>113.19</td>\n",
       "      <td>111.45</td>\n",
       "      <td>112.28</td>\n",
       "      <td>9,237,926</td>\n",
       "    </tr>\n",
       "    <tr>\n",
       "      <th>502</th>\n",
       "      <td>01/02/2018</td>\n",
       "      <td>108.95</td>\n",
       "      <td>111.81</td>\n",
       "      <td>108.56</td>\n",
       "      <td>111.80</td>\n",
       "      <td>11,014,300</td>\n",
       "    </tr>\n",
       "  </tbody>\n",
       "</table>\n",
       "<p>503 rows × 6 columns</p>\n",
       "</div>"
      ],
      "text/plain": [
       "           Date    Open    High     Low   Close      Volume\n",
       "0    12/31/2019  143.67  144.77  143.26  144.63   5,663,965\n",
       "1    12/30/2019  145.75  145.87  143.40  143.77   6,605,481\n",
       "2    12/27/2019  146.05  146.51  145.45  145.75   5,497,500\n",
       "3    12/26/2019  145.40  145.86  145.17  145.70   4,431,113\n",
       "4    12/24/2019  144.58  145.43  144.45  145.29   3,508,541\n",
       "..          ...     ...     ...     ...     ...         ...\n",
       "498  01/08/2018  110.89  111.28  109.54  110.02   8,052,594\n",
       "499  01/05/2018  112.68  112.68  111.24  111.62   6,008,285\n",
       "500  01/04/2018  112.95  113.00  111.63  112.23   7,417,409\n",
       "501  01/03/2018  112.19  113.19  111.45  112.28   9,237,926\n",
       "502  01/02/2018  108.95  111.81  108.56  111.80  11,014,300\n",
       "\n",
       "[503 rows x 6 columns]"
      ]
     },
     "execution_count": 4,
     "metadata": {},
     "output_type": "execute_result"
    }
   ],
   "source": [
    "#to combine all of our data\n",
    "df1 = pd.concat([df_a, df1], ignore_index=True)\n",
    "df2 = pd.concat([df_b, df2], ignore_index=True)\n",
    "df3 = pd.concat([df_c, df3], ignore_index=True)\n",
    "df4 = pd.concat([df_d, df4], ignore_index=True)\n",
    "df5 = pd.concat([df_e, df5], ignore_index=True)\n",
    "df6 = pd.concat([df_f, df6], ignore_index=True)\n",
    "df7 = pd.concat([df_g, df7], ignore_index=True)\n",
    "df8 = pd.concat([df_h, df8], ignore_index=True)\n",
    "df9 = pd.concat([df_i, df9], ignore_index=True)\n",
    "df10 = pd.concat([df_j, df10], ignore_index=True)\n",
    "df11 = pd.concat([df_k, df11], ignore_index=True)\n",
    "df2 #example of what we were working with for each company"
   ]
  },
  {
   "cell_type": "code",
   "execution_count": 5,
   "metadata": {},
   "outputs": [],
   "source": [
    "# remove extra columns for S&P data\n",
    "df_sp = df1.drop(columns=['Open','High','Low'])\n",
    "df2 = df2.drop(columns=['Open','High','Low','Volume'])\n",
    "df3 = df3.drop(columns=['Open','High','Low','Volume'])\n",
    "df4 = df4.drop(columns=['Open','High','Low','Volume'])\n",
    "df5 = df5.drop(columns=['Open','High','Low','Volume'])\n",
    "df6 = df6.drop(columns=['Open','High','Low','Volume'])\n",
    "df7 = df7.drop(columns=['Open','High','Low','Volume'])\n",
    "df8 = df8.drop(columns=['Open','High','Low','Volume'])\n",
    "df9 = df9.drop(columns=['Open','High','Low','Volume'])\n",
    "df10 = df10.drop(columns=['Open','High','Low','Volume'])\n",
    "df11 = df11.drop(columns=['Open','High','Low','Volume'])"
   ]
  },
  {
   "cell_type": "code",
   "execution_count": 6,
   "metadata": {},
   "outputs": [],
   "source": [
    "#to convert to correct types\n",
    "def stringToFloat (str_in):\n",
    "    if ',' in str_in:\n",
    "        str_in = str_in.replace(',', '')\n",
    "        output = float(str_in)\n",
    "    else:\n",
    "        output = float(str_in)\n",
    "        \n",
    "    return output"
   ]
  },
  {
   "cell_type": "code",
   "execution_count": 7,
   "metadata": {},
   "outputs": [],
   "source": [
    "df11[\"Close\"] = df11[\"Close\"].apply(stringToFloat)\n",
    "df_companies = df2.copy()\n",
    "df_companies = df_companies.drop(columns = \"Close\")\n",
    "df_companies[\"Close\"] = df2[\"Close\"]+df3[\"Close\"]+df4[\"Close\"]+df5[\"Close\"]+df6[\"Close\"]+df7[\"Close\"]+df8[\"Close\"]+df9[\"Close\"]+df10[\"Close\"]\n",
    "df_companies[\"Close\"] = df_companies[\"Close\"] + df11[\"Close\"] "
   ]
  },
  {
   "cell_type": "code",
   "execution_count": 8,
   "metadata": {},
   "outputs": [
    {
     "data": {
      "text/html": [
       "<div>\n",
       "<style scoped>\n",
       "    .dataframe tbody tr th:only-of-type {\n",
       "        vertical-align: middle;\n",
       "    }\n",
       "\n",
       "    .dataframe tbody tr th {\n",
       "        vertical-align: top;\n",
       "    }\n",
       "\n",
       "    .dataframe thead th {\n",
       "        text-align: right;\n",
       "    }\n",
       "</style>\n",
       "<table border=\"1\" class=\"dataframe\">\n",
       "  <thead>\n",
       "    <tr style=\"text-align: right;\">\n",
       "      <th></th>\n",
       "      <th>Date</th>\n",
       "      <th>Close</th>\n",
       "    </tr>\n",
       "  </thead>\n",
       "  <tbody>\n",
       "    <tr>\n",
       "      <th>0</th>\n",
       "      <td>01/02/2018</td>\n",
       "      <td>2719.17</td>\n",
       "    </tr>\n",
       "    <tr>\n",
       "      <th>1</th>\n",
       "      <td>01/03/2018</td>\n",
       "      <td>2765.83</td>\n",
       "    </tr>\n",
       "    <tr>\n",
       "      <th>2</th>\n",
       "      <td>01/04/2018</td>\n",
       "      <td>2747.94</td>\n",
       "    </tr>\n",
       "    <tr>\n",
       "      <th>3</th>\n",
       "      <td>01/05/2018</td>\n",
       "      <td>2762.07</td>\n",
       "    </tr>\n",
       "    <tr>\n",
       "      <th>4</th>\n",
       "      <td>01/08/2018</td>\n",
       "      <td>2795.52</td>\n",
       "    </tr>\n",
       "    <tr>\n",
       "      <th>...</th>\n",
       "      <td>...</td>\n",
       "      <td>...</td>\n",
       "    </tr>\n",
       "    <tr>\n",
       "      <th>498</th>\n",
       "      <td>12/24/2019</td>\n",
       "      <td>3094.25</td>\n",
       "    </tr>\n",
       "    <tr>\n",
       "      <th>499</th>\n",
       "      <td>12/26/2019</td>\n",
       "      <td>3119.29</td>\n",
       "    </tr>\n",
       "    <tr>\n",
       "      <th>500</th>\n",
       "      <td>12/27/2019</td>\n",
       "      <td>3128.48</td>\n",
       "    </tr>\n",
       "    <tr>\n",
       "      <th>501</th>\n",
       "      <td>12/30/2019</td>\n",
       "      <td>3101.54</td>\n",
       "    </tr>\n",
       "    <tr>\n",
       "      <th>502</th>\n",
       "      <td>12/31/2019</td>\n",
       "      <td>3102.24</td>\n",
       "    </tr>\n",
       "  </tbody>\n",
       "</table>\n",
       "<p>503 rows × 2 columns</p>\n",
       "</div>"
      ],
      "text/plain": [
       "           Date    Close\n",
       "0    01/02/2018  2719.17\n",
       "1    01/03/2018  2765.83\n",
       "2    01/04/2018  2747.94\n",
       "3    01/05/2018  2762.07\n",
       "4    01/08/2018  2795.52\n",
       "..          ...      ...\n",
       "498  12/24/2019  3094.25\n",
       "499  12/26/2019  3119.29\n",
       "500  12/27/2019  3128.48\n",
       "501  12/30/2019  3101.54\n",
       "502  12/31/2019  3102.24\n",
       "\n",
       "[503 rows x 2 columns]"
      ]
     },
     "execution_count": 8,
     "metadata": {},
     "output_type": "execute_result"
    }
   ],
   "source": [
    "df_companies = df_companies.loc[::-1].reset_index(drop=True)\n",
    "#this created dataframe with date and combined close for hospitality companies\n",
    "df_companies"
   ]
  },
  {
   "cell_type": "code",
   "execution_count": 9,
   "metadata": {},
   "outputs": [
    {
     "data": {
      "text/html": [
       "<div>\n",
       "<style scoped>\n",
       "    .dataframe tbody tr th:only-of-type {\n",
       "        vertical-align: middle;\n",
       "    }\n",
       "\n",
       "    .dataframe tbody tr th {\n",
       "        vertical-align: top;\n",
       "    }\n",
       "\n",
       "    .dataframe thead th {\n",
       "        text-align: right;\n",
       "    }\n",
       "</style>\n",
       "<table border=\"1\" class=\"dataframe\">\n",
       "  <thead>\n",
       "    <tr style=\"text-align: right;\">\n",
       "      <th></th>\n",
       "      <th>Date</th>\n",
       "      <th>Close</th>\n",
       "    </tr>\n",
       "  </thead>\n",
       "  <tbody>\n",
       "    <tr>\n",
       "      <th>0</th>\n",
       "      <td>01/02/2018</td>\n",
       "      <td>2,695.81</td>\n",
       "    </tr>\n",
       "    <tr>\n",
       "      <th>1</th>\n",
       "      <td>01/03/2018</td>\n",
       "      <td>2,713.06</td>\n",
       "    </tr>\n",
       "    <tr>\n",
       "      <th>2</th>\n",
       "      <td>01/04/2018</td>\n",
       "      <td>2,723.99</td>\n",
       "    </tr>\n",
       "    <tr>\n",
       "      <th>3</th>\n",
       "      <td>01/05/2018</td>\n",
       "      <td>2,743.15</td>\n",
       "    </tr>\n",
       "    <tr>\n",
       "      <th>4</th>\n",
       "      <td>01/08/2018</td>\n",
       "      <td>2,747.71</td>\n",
       "    </tr>\n",
       "    <tr>\n",
       "      <th>...</th>\n",
       "      <td>...</td>\n",
       "      <td>...</td>\n",
       "    </tr>\n",
       "    <tr>\n",
       "      <th>498</th>\n",
       "      <td>12/24/2019</td>\n",
       "      <td>3,223.38</td>\n",
       "    </tr>\n",
       "    <tr>\n",
       "      <th>499</th>\n",
       "      <td>12/26/2019</td>\n",
       "      <td>3,239.91</td>\n",
       "    </tr>\n",
       "    <tr>\n",
       "      <th>500</th>\n",
       "      <td>12/27/2019</td>\n",
       "      <td>3,240.02</td>\n",
       "    </tr>\n",
       "    <tr>\n",
       "      <th>501</th>\n",
       "      <td>12/30/2019</td>\n",
       "      <td>3,221.29</td>\n",
       "    </tr>\n",
       "    <tr>\n",
       "      <th>502</th>\n",
       "      <td>12/31/2019</td>\n",
       "      <td>3,230.78</td>\n",
       "    </tr>\n",
       "  </tbody>\n",
       "</table>\n",
       "<p>503 rows × 2 columns</p>\n",
       "</div>"
      ],
      "text/plain": [
       "           Date     Close\n",
       "0    01/02/2018  2,695.81\n",
       "1    01/03/2018  2,713.06\n",
       "2    01/04/2018  2,723.99\n",
       "3    01/05/2018  2,743.15\n",
       "4    01/08/2018  2,747.71\n",
       "..          ...       ...\n",
       "498  12/24/2019  3,223.38\n",
       "499  12/26/2019  3,239.91\n",
       "500  12/27/2019  3,240.02\n",
       "501  12/30/2019  3,221.29\n",
       "502  12/31/2019  3,230.78\n",
       "\n",
       "[503 rows x 2 columns]"
      ]
     },
     "execution_count": 9,
     "metadata": {},
     "output_type": "execute_result"
    }
   ],
   "source": [
    "df_sp = df_sp.loc[::-1].reset_index(drop=True)\n",
    "#this created dataframe with date and S&P 500 close\n",
    "df_sp"
   ]
  },
  {
   "cell_type": "code",
   "execution_count": 10,
   "metadata": {},
   "outputs": [],
   "source": [
    "df_sp[\"Close\"] = df_sp[\"Close\"].apply(stringToFloat)"
   ]
  },
  {
   "cell_type": "code",
   "execution_count": 11,
   "metadata": {},
   "outputs": [],
   "source": [
    "df_hp_sp500 = df_companies.copy()\n",
    "df_hp_sp500['CloseSP'] = df_sp['Close']\n",
    "df_hp_sp500.rename(columns={'Close':'CloseHP'}, inplace=True)\n",
    "df_hp_sp500['Ratio'] = df_hp_sp500['CloseHP']/df_hp_sp500['CloseSP']\n",
    "#this created dataframe with date, combined close of the hospitality industry, close of the S&P 500, and the ratio between the hospitality industry's close and the S&P 500's close"
   ]
  },
  {
   "cell_type": "code",
   "execution_count": 12,
   "metadata": {},
   "outputs": [],
   "source": [
    "df_CloseHP1 = df_hp_sp500['CloseHP'].drop(index=0).reset_index(drop=True)\n",
    "df_CloseHP2 = df_hp_sp500['CloseHP'].drop(index=502).reset_index(drop=True)\n",
    "df_CloseHPdf = (df_CloseHP1-df_CloseHP2)/df_CloseHP1\n",
    "df_CloseSP1 = df_hp_sp500['CloseSP'].drop(index=0).reset_index(drop=True)\n",
    "df_CloseSP2 = df_hp_sp500['CloseSP'].drop(index=502).reset_index(drop=True)\n",
    "df_CloseSPdf = (df_CloseSP1-df_CloseSP2)/df_CloseSP1\n",
    "df_rel_diff = df_CloseHPdf/df_CloseSPdf\n",
    "#this created a dataframe with the relative difference ratio for each date"
   ]
  },
  {
   "cell_type": "code",
   "execution_count": 13,
   "metadata": {},
   "outputs": [
    {
     "data": {
      "text/html": [
       "<div>\n",
       "<style scoped>\n",
       "    .dataframe tbody tr th:only-of-type {\n",
       "        vertical-align: middle;\n",
       "    }\n",
       "\n",
       "    .dataframe tbody tr th {\n",
       "        vertical-align: top;\n",
       "    }\n",
       "\n",
       "    .dataframe thead th {\n",
       "        text-align: right;\n",
       "    }\n",
       "</style>\n",
       "<table border=\"1\" class=\"dataframe\">\n",
       "  <thead>\n",
       "    <tr style=\"text-align: right;\">\n",
       "      <th></th>\n",
       "      <th>Date</th>\n",
       "      <th>CloseHP</th>\n",
       "      <th>CloseSP</th>\n",
       "      <th>Ratio</th>\n",
       "      <th>Relative_Diff_Ratio</th>\n",
       "      <th>CloseHP_diff_Ratio</th>\n",
       "      <th>CloseSP_diff_Ratio</th>\n",
       "    </tr>\n",
       "  </thead>\n",
       "  <tbody>\n",
       "    <tr>\n",
       "      <th>0</th>\n",
       "      <td>01/02/2018</td>\n",
       "      <td>2719.17</td>\n",
       "      <td>2695.81</td>\n",
       "      <td>1.008665</td>\n",
       "      <td>2.653320</td>\n",
       "      <td>0.016870</td>\n",
       "      <td>0.006358</td>\n",
       "    </tr>\n",
       "    <tr>\n",
       "      <th>1</th>\n",
       "      <td>01/03/2018</td>\n",
       "      <td>2765.83</td>\n",
       "      <td>2713.06</td>\n",
       "      <td>1.019450</td>\n",
       "      <td>-1.622514</td>\n",
       "      <td>-0.006510</td>\n",
       "      <td>0.004012</td>\n",
       "    </tr>\n",
       "    <tr>\n",
       "      <th>2</th>\n",
       "      <td>01/04/2018</td>\n",
       "      <td>2747.94</td>\n",
       "      <td>2723.99</td>\n",
       "      <td>1.008792</td>\n",
       "      <td>0.732422</td>\n",
       "      <td>0.005116</td>\n",
       "      <td>0.006985</td>\n",
       "    </tr>\n",
       "    <tr>\n",
       "      <th>3</th>\n",
       "      <td>01/05/2018</td>\n",
       "      <td>2762.07</td>\n",
       "      <td>2743.15</td>\n",
       "      <td>1.006897</td>\n",
       "      <td>7.210071</td>\n",
       "      <td>0.011966</td>\n",
       "      <td>0.001660</td>\n",
       "    </tr>\n",
       "    <tr>\n",
       "      <th>4</th>\n",
       "      <td>01/08/2018</td>\n",
       "      <td>2795.52</td>\n",
       "      <td>2747.71</td>\n",
       "      <td>1.017400</td>\n",
       "      <td>4.164195</td>\n",
       "      <td>0.005418</td>\n",
       "      <td>0.001301</td>\n",
       "    </tr>\n",
       "    <tr>\n",
       "      <th>...</th>\n",
       "      <td>...</td>\n",
       "      <td>...</td>\n",
       "      <td>...</td>\n",
       "      <td>...</td>\n",
       "      <td>...</td>\n",
       "      <td>...</td>\n",
       "      <td>...</td>\n",
       "    </tr>\n",
       "    <tr>\n",
       "      <th>498</th>\n",
       "      <td>12/24/2019</td>\n",
       "      <td>3094.25</td>\n",
       "      <td>3223.38</td>\n",
       "      <td>0.959940</td>\n",
       "      <td>1.573398</td>\n",
       "      <td>0.008027</td>\n",
       "      <td>0.005102</td>\n",
       "    </tr>\n",
       "    <tr>\n",
       "      <th>499</th>\n",
       "      <td>12/26/2019</td>\n",
       "      <td>3119.29</td>\n",
       "      <td>3239.91</td>\n",
       "      <td>0.962771</td>\n",
       "      <td>86.524109</td>\n",
       "      <td>0.002938</td>\n",
       "      <td>0.000034</td>\n",
       "    </tr>\n",
       "    <tr>\n",
       "      <th>500</th>\n",
       "      <td>12/27/2019</td>\n",
       "      <td>3128.48</td>\n",
       "      <td>3240.02</td>\n",
       "      <td>0.965574</td>\n",
       "      <td>1.493868</td>\n",
       "      <td>-0.008686</td>\n",
       "      <td>-0.005814</td>\n",
       "    </tr>\n",
       "    <tr>\n",
       "      <th>501</th>\n",
       "      <td>12/30/2019</td>\n",
       "      <td>3101.54</td>\n",
       "      <td>3221.29</td>\n",
       "      <td>0.962825</td>\n",
       "      <td>0.076818</td>\n",
       "      <td>0.000226</td>\n",
       "      <td>0.002937</td>\n",
       "    </tr>\n",
       "    <tr>\n",
       "      <th>502</th>\n",
       "      <td>12/31/2019</td>\n",
       "      <td>3102.24</td>\n",
       "      <td>3230.78</td>\n",
       "      <td>0.960214</td>\n",
       "      <td>NaN</td>\n",
       "      <td>NaN</td>\n",
       "      <td>NaN</td>\n",
       "    </tr>\n",
       "  </tbody>\n",
       "</table>\n",
       "<p>503 rows × 7 columns</p>\n",
       "</div>"
      ],
      "text/plain": [
       "           Date  CloseHP  CloseSP     Ratio  Relative_Diff_Ratio  \\\n",
       "0    01/02/2018  2719.17  2695.81  1.008665             2.653320   \n",
       "1    01/03/2018  2765.83  2713.06  1.019450            -1.622514   \n",
       "2    01/04/2018  2747.94  2723.99  1.008792             0.732422   \n",
       "3    01/05/2018  2762.07  2743.15  1.006897             7.210071   \n",
       "4    01/08/2018  2795.52  2747.71  1.017400             4.164195   \n",
       "..          ...      ...      ...       ...                  ...   \n",
       "498  12/24/2019  3094.25  3223.38  0.959940             1.573398   \n",
       "499  12/26/2019  3119.29  3239.91  0.962771            86.524109   \n",
       "500  12/27/2019  3128.48  3240.02  0.965574             1.493868   \n",
       "501  12/30/2019  3101.54  3221.29  0.962825             0.076818   \n",
       "502  12/31/2019  3102.24  3230.78  0.960214                  NaN   \n",
       "\n",
       "     CloseHP_diff_Ratio  CloseSP_diff_Ratio  \n",
       "0              0.016870            0.006358  \n",
       "1             -0.006510            0.004012  \n",
       "2              0.005116            0.006985  \n",
       "3              0.011966            0.001660  \n",
       "4              0.005418            0.001301  \n",
       "..                  ...                 ...  \n",
       "498            0.008027            0.005102  \n",
       "499            0.002938            0.000034  \n",
       "500           -0.008686           -0.005814  \n",
       "501            0.000226            0.002937  \n",
       "502                 NaN                 NaN  \n",
       "\n",
       "[503 rows x 7 columns]"
      ]
     },
     "execution_count": 13,
     "metadata": {},
     "output_type": "execute_result"
    }
   ],
   "source": [
    "df_hp_sp500['Relative_Diff_Ratio'] = df_rel_diff\n",
    "df_hp_sp500['CloseHP_diff_Ratio'] = df_CloseHPdf \n",
    "df_hp_sp500['CloseSP_diff_Ratio'] = df_CloseSPdf\n",
    "df_hp_sp500\n",
    "#complete and final dataframe"
   ]
  },
  {
   "cell_type": "markdown",
   "metadata": {},
   "source": [
    "# Data Analysis & Results"
   ]
  },
  {
   "cell_type": "markdown",
   "metadata": {},
   "source": [
    "For our Exploratory Data Analysis, we started with determining the shapes of our two main datasets, the dataset containing the S&P data and the dataset containing the combined close rate for all of the companies in the hospitality industry that we were going to examine. \n",
    "\n",
    "After that, we used the describe() function to see some introductory statistics about the two variables we were trying to compare (the companies from the hospitality industry and the corresponding S&P values from that date). We specifically looked at the ratio column and the relative difference ratio from the dataset df_hp_sp500 above. These variables were helpful in allowing us to determine the relative size of the distribution and how the curve would look overall for the distribution of the two variables compared to each other. \n",
    "\n",
    "We then plotted a series of relevant figures that we used to analyze the relationship between our two variables S&P 500 close rate and the combined close rate from all the companies in the hospitality industry that we were looking at) in more detail. We go into specifics about each of these plots below under each of these distribution. "
   ]
  },
  {
   "cell_type": "code",
   "execution_count": 14,
   "metadata": {},
   "outputs": [
    {
     "data": {
      "text/plain": [
       "(503, 2)"
      ]
     },
     "execution_count": 14,
     "metadata": {},
     "output_type": "execute_result"
    }
   ],
   "source": [
    "df_sp.shape"
   ]
  },
  {
   "cell_type": "code",
   "execution_count": 15,
   "metadata": {},
   "outputs": [
    {
     "data": {
      "text/plain": [
       "(503, 2)"
      ]
     },
     "execution_count": 15,
     "metadata": {},
     "output_type": "execute_result"
    }
   ],
   "source": [
    "df_companies.shape"
   ]
  },
  {
   "cell_type": "code",
   "execution_count": 16,
   "metadata": {},
   "outputs": [
    {
     "data": {
      "text/plain": [
       "count    503.000000\n",
       "mean       1.001739\n",
       "std        0.057878\n",
       "min        0.906279\n",
       "25%        0.959513\n",
       "50%        0.992371\n",
       "75%        1.028789\n",
       "max        1.150654\n",
       "Name: Ratio, dtype: float64"
      ]
     },
     "execution_count": 16,
     "metadata": {},
     "output_type": "execute_result"
    }
   ],
   "source": [
    "df_hp_sp500['Ratio'].describe()"
   ]
  },
  {
   "cell_type": "code",
   "execution_count": 17,
   "metadata": {},
   "outputs": [
    {
     "data": {
      "text/plain": [
       "count    502.000000\n",
       "mean       1.081987\n",
       "std       32.012283\n",
       "min     -630.589081\n",
       "25%       -0.021485\n",
       "50%        0.937391\n",
       "75%        1.864640\n",
       "max      146.054410\n",
       "Name: Relative_Diff_Ratio, dtype: float64"
      ]
     },
     "execution_count": 17,
     "metadata": {},
     "output_type": "execute_result"
    }
   ],
   "source": [
    "df_hp_sp500['Relative_Diff_Ratio'].describe()"
   ]
  },
  {
   "cell_type": "code",
   "execution_count": 18,
   "metadata": {},
   "outputs": [
    {
     "data": {
      "text/plain": [
       "Text(0.5, 1.0, 'Relationship between S&P 500 Close Rate and Hospitality Industry Close Rate')"
      ]
     },
     "execution_count": 18,
     "metadata": {},
     "output_type": "execute_result"
    },
    {
     "data": {
      "image/png": "[encoded data removed]",
      "text/plain": [
       "<Figure size 432x288 with 1 Axes>"
      ]
     },
     "metadata": {
      "needs_background": "light"
     },
     "output_type": "display_data"
    }
   ],
   "source": [
    "plt.scatter(df_sp['Close'],df_companies['Close'])\n",
    "plt.xlabel(\"S&P 500 Close Rate\")\n",
    "plt.ylabel(\"Hospitality Companies Close Rate\")\n",
    "plt.title(\"Relationship between S&P 500 Close Rate and Hospitality Industry Close Rate\")"
   ]
  },
  {
   "cell_type": "markdown",
   "metadata": {},
   "source": [
    "We graphed a scatter plot to look more specifically at the relationship between the two variables (S&P 500 close rate and the combined close rate from all the companies in the hospitality industry that we were looking at). This scatter plot allowed us to determine that we could percieve a correlation between the two variables and we determined there was a positive correlation between the two."
   ]
  },
  {
   "cell_type": "code",
   "execution_count": 19,
   "metadata": {},
   "outputs": [
    {
     "data": {
      "image/png": "[encoded data removed]",
      "text/plain": [
       "<Figure size 432x288 with 1 Axes>"
      ]
     },
     "metadata": {
      "needs_background": "light"
     },
     "output_type": "display_data"
    }
   ],
   "source": [
    "y_axis = df_sp['Close']\n",
    "x_axis = df_sp['Date']\n",
    "\n",
    "plt.plot(x_axis, y_axis)\n",
    "plt.title('2018-2019 SP&500 Stock Index')\n",
    "plt.xlabel('date')\n",
    "plt.ylabel('close price')\n",
    "plt.xticks([])\n",
    "plt.show()\n"
   ]
  },
  {
   "cell_type": "markdown",
   "metadata": {},
   "source": [
    "This line graph shows the S&P 500 data trend over time. We were able to deduce the general trend and assume a general upward trend based on the graph. This graph also showed us that there were potential for outliers."
   ]
  },
  {
   "cell_type": "code",
   "execution_count": 20,
   "metadata": {},
   "outputs": [
    {
     "data": {
      "image/png": "[encoded data removed]",
      "text/plain": [
       "<Figure size 432x288 with 1 Axes>"
      ]
     },
     "metadata": {
      "needs_background": "light"
     },
     "output_type": "display_data"
    }
   ],
   "source": [
    "y_axis = df_companies['Close']\n",
    "x_axis = df_companies['Date']\n",
    "\n",
    "plt.plot(x_axis, y_axis)\n",
    "plt.title('2018-2019 hospitality industry stock index')\n",
    "plt.xlabel('date')\n",
    "plt.ylabel('close price')\n",
    "plt.xticks([])\n",
    "plt.show()"
   ]
  },
  {
   "cell_type": "markdown",
   "metadata": {},
   "source": [
    "This line graph showed us how the hospitality industry did over time. Again, we were able to determine a decreasing trend initially and then an increasing trend. We also noted there would likely be outliers with this graph as well. "
   ]
  },
  {
   "cell_type": "code",
   "execution_count": 21,
   "metadata": {},
   "outputs": [
    {
     "data": {
      "text/plain": [
       "([], [])"
      ]
     },
     "execution_count": 21,
     "metadata": {},
     "output_type": "execute_result"
    },
    {
     "data": {
      "image/png": "[encoded data removed]",
      "text/plain": [
       "<Figure size 432x288 with 1 Axes>"
      ]
     },
     "metadata": {
      "needs_background": "light"
     },
     "output_type": "display_data"
    }
   ],
   "source": [
    "sns.lineplot(data=df_sp, x='Date',y='Close')\n",
    "sns.lineplot(data=df_companies, x='Date',y='Close')\n",
    "plt.title('hospitality industry Stock Index vs SP&500 Stock Index')\n",
    "plt.xticks([])"
   ]
  },
  {
   "cell_type": "markdown",
   "metadata": {},
   "source": [
    "After that, we plotted a line graph to determine the close rate for S&P 500 over time and a separate line graph for the combined close of all of the companies from the hospitality industry. These graphs allowed us to see the relative distribution of each but to get more specific information, we overaid the two graphs on top of each other in the same plot to see were they more closely correlated. We noted there was a point in 2018 where the two variables were not correlated which could be due to confounding variables."
   ]
  },
  {
   "cell_type": "code",
   "execution_count": 22,
   "metadata": {},
   "outputs": [
    {
     "data": {
      "image/png": "[encoded data removed]",
      "text/plain": [
       "<Figure size 432x288 with 1 Axes>"
      ]
     },
     "metadata": {
      "needs_background": "light"
     },
     "output_type": "display_data"
    }
   ],
   "source": [
    "y_axis = df_hp_sp500['Ratio']\n",
    "x_axis = df_hp_sp500['Date']\n",
    "\n",
    "plt.plot(x_axis, y_axis)\n",
    "plt.title('2018-2019 Ratio')\n",
    "plt.xlabel('Date')\n",
    "plt.ylabel('Ratio')\n",
    "plt.xticks([])\n",
    "plt.show()"
   ]
  },
  {
   "cell_type": "markdown",
   "metadata": {},
   "source": [
    "We then plotted a line graph for the ratio between these two variables to show precisely how well these two variables correlated. If the line graph stayed constant around 1, we would have known that these two variables were closely correlated and thus had a strong positive relationship. Since this wasn't the case, we can assume that there are other facts which impacted S&P 500 at a time where it did not impact the hospitality industry. Although these factors are still not completely determined, we can assume that seasonal travelling (which impacts the hospitality industry but not S&P 500) could be one such factor."
   ]
  },
  {
   "cell_type": "code",
   "execution_count": 23,
   "metadata": {},
   "outputs": [
    {
     "data": {
      "image/png": "[encoded data removed]",
      "text/plain": [
       "<Figure size 432x288 with 1 Axes>"
      ]
     },
     "metadata": {
      "needs_background": "light"
     },
     "output_type": "display_data"
    }
   ],
   "source": [
    "y_axis = df_hp_sp500['Relative_Diff_Ratio']\n",
    "x_axis = df_hp_sp500['Date']\n",
    "\n",
    "plt.plot(x_axis, y_axis)\n",
    "plt.title('Relative difference between hospitality industry Stock Index vs SP&500 Stock Index')\n",
    "plt.xlabel('Date')\n",
    "plt.ylabel('Relative_Diff_Ratio')\n",
    "plt.xticks([])\n",
    "plt.show()"
   ]
  },
  {
   "cell_type": "markdown",
   "metadata": {},
   "source": [
    "We plotted the relative difference ratio which measured the rate of change between the two variables. Based on this graph, we were clearly able to see where there were outliers in the dataset as they caused huge spike in the graph. This made us conclude which outliers to remove and we went about the process of removing them."
   ]
  },
  {
   "cell_type": "code",
   "execution_count": 24,
   "metadata": {},
   "outputs": [
    {
     "name": "stdout",
     "output_type": "stream",
     "text": [
      "150    08/07/2018\n",
      "241    12/17/2018\n",
      "312    04/01/2019\n",
      "319    04/10/2019\n",
      "432    09/20/2019\n",
      "490    12/12/2019\n",
      "499    12/26/2019\n",
      "Name: Date, dtype: object\n"
     ]
    }
   ],
   "source": [
    "index = df_hp_sp500.index[df_hp_sp500['Relative_Diff_Ratio'] > 50 ].tolist()\n",
    "print(df_hp_sp500['Date'][index])"
   ]
  },
  {
   "cell_type": "code",
   "execution_count": 25,
   "metadata": {},
   "outputs": [],
   "source": [
    "df_hp_sp500 = df_hp_sp500.drop(index)"
   ]
  },
  {
   "cell_type": "code",
   "execution_count": 26,
   "metadata": {},
   "outputs": [
    {
     "name": "stdout",
     "output_type": "stream",
     "text": [
      "186    09/27/2018\n",
      "422    09/06/2019\n",
      "Name: Date, dtype: object\n"
     ]
    }
   ],
   "source": [
    "index = df_hp_sp500.index[df_hp_sp500['Relative_Diff_Ratio'] < -50 ].tolist()\n",
    "print(df_hp_sp500['Date'][index])"
   ]
  },
  {
   "cell_type": "code",
   "execution_count": 27,
   "metadata": {},
   "outputs": [],
   "source": [
    "df_hp_sp500 = df_hp_sp500.drop(index)"
   ]
  },
  {
   "cell_type": "code",
   "execution_count": 28,
   "metadata": {},
   "outputs": [],
   "source": [
    "df_hp_sp500 = df_hp_sp500.reset_index(drop=True)"
   ]
  },
  {
   "cell_type": "code",
   "execution_count": 29,
   "metadata": {},
   "outputs": [
    {
     "data": {
      "image/png": "[encoded data removed]",
      "text/plain": [
       "<Figure size 432x288 with 1 Axes>"
      ]
     },
     "metadata": {
      "needs_background": "light"
     },
     "output_type": "display_data"
    }
   ],
   "source": [
    "y_axis = df_hp_sp500['Relative_Diff_Ratio']\n",
    "x_axis = df_hp_sp500['Date']\n",
    "\n",
    "plt.plot(x_axis, y_axis)\n",
    "plt.title('Relative difference between hospitality industry Stock Index vs SP&500 Stock Index')\n",
    "plt.xlabel('Date')\n",
    "plt.ylabel('Relative_Diff_Ratio')\n",
    "plt.xticks([])\n",
    "plt.show()"
   ]
  },
  {
   "cell_type": "markdown",
   "metadata": {},
   "source": [
    "After removing the outliers, we saw that this distribution is much more approachable and is a better representation of the comparision between the two variables. The removal of these outliers allowed us to carry out our statistical analysis with relative confidence that it would tell us the proper correlation."
   ]
  },
  {
   "cell_type": "code",
   "execution_count": 30,
   "metadata": {},
   "outputs": [
    {
     "data": {
      "text/plain": [
       "[Text(0.5, 1.0, 'Distribution')]"
      ]
     },
     "execution_count": 30,
     "metadata": {},
     "output_type": "execute_result"
    },
    {
     "data": {
      "image/png": "[encoded data removed]",
      "text/plain": [
       "<Figure size 432x288 with 1 Axes>"
      ]
     },
     "metadata": {
      "needs_background": "light"
     },
     "output_type": "display_data"
    }
   ],
   "source": [
    "sns.histplot(df_hp_sp500['Relative_Diff_Ratio'],kde=False, bins=30, color=\"dimgrey\").set(title=\"Distribution\")"
   ]
  },
  {
   "cell_type": "markdown",
   "metadata": {},
   "source": [
    "This histogram shows the distribution of the relative difference ratio between the two variables. It also shows how this distribution is approximately normal and is a bell shaped curve which you can tell by looking at the shape of the graph."
   ]
  },
  {
   "cell_type": "code",
   "execution_count": 31,
   "metadata": {
    "scrolled": true
   },
   "outputs": [
    {
     "name": "stdout",
     "output_type": "stream",
     "text": [
      "                            OLS Regression Results                            \n",
      "==============================================================================\n",
      "Dep. Variable:     CloseHP_diff_Ratio   R-squared:                       0.481\n",
      "Model:                            OLS   Adj. R-squared:                  0.480\n",
      "Method:                 Least Squares   F-statistic:                     454.3\n",
      "Date:                Fri, 09 Dec 2022   Prob (F-statistic):           7.52e-72\n",
      "Time:                        04:22:11   Log-Likelihood:                 1607.6\n",
      "No. Observations:                 493   AIC:                            -3211.\n",
      "Df Residuals:                     491   BIC:                            -3203.\n",
      "Df Model:                           1                                         \n",
      "Covariance Type:            nonrobust                                         \n",
      "======================================================================================\n",
      "                         coef    std err          t      P>|t|      [0.025      0.975]\n",
      "--------------------------------------------------------------------------------------\n",
      "Intercept             -0.0002      0.000     -0.360      0.719      -0.001       0.001\n",
      "CloseSP_diff_Ratio     0.9355      0.044     21.314      0.000       0.849       1.022\n",
      "==============================================================================\n",
      "Omnibus:                      304.752   Durbin-Watson:                   1.947\n",
      "Prob(Omnibus):                  0.000   Jarque-Bera (JB):            10781.648\n",
      "Skew:                          -2.089   Prob(JB):                         0.00\n",
      "Kurtosis:                      25.526   Cond. No.                         105.\n",
      "==============================================================================\n",
      "\n",
      "Notes:\n",
      "[1] Standard Errors assume that the covariance matrix of the errors is correctly specified.\n"
     ]
    }
   ],
   "source": [
    "df = df_hp_sp500[['CloseHP_diff_Ratio','CloseSP_diff_Ratio']]\n",
    "df.columns = ['CloseHP_diff_Ratio', 'CloseSP_diff_Ratio']\n",
    "df.head()\n",
    "outcome, predictors = patsy.dmatrices('CloseHP_diff_Ratio ~ CloseSP_diff_Ratio', df)\n",
    "mod_log = sm.OLS(outcome, predictors)\n",
    "res_log = mod_log.fit()\n",
    "print(res_log.summary())"
   ]
  },
  {
   "cell_type": "markdown",
   "metadata": {},
   "source": [
    "WE used theOLS Regression results show a postive 0.937 coef with a close to 0 P-value which rejects null hypothesis and shows there is a postive relationship between SP 500 stock index and hopitality industry stock index. However, we can tell from the overlapping line graph above that there is a noticeable difference betweeenn 2018 and 2019, so we divide those two years and run a OLS regression test seprately."
   ]
  },
  {
   "cell_type": "code",
   "execution_count": 32,
   "metadata": {
    "scrolled": true
   },
   "outputs": [
    {
     "data": {
      "text/plain": [
       "[248]"
      ]
     },
     "execution_count": 32,
     "metadata": {},
     "output_type": "execute_result"
    }
   ],
   "source": [
    "df_hp_sp500[\"Date\"].astype(str)\n",
    "index = df_hp_sp500.index[df_hp_sp500['Date'] == '01/02/2019'].tolist()\n",
    "index"
   ]
  },
  {
   "cell_type": "code",
   "execution_count": 33,
   "metadata": {},
   "outputs": [],
   "source": [
    "df_hp_sp500_2018 = df_hp_sp500.iloc[:248,:]\n",
    "df_hp_sp500_2019 = df_hp_sp500.iloc[248:,:]"
   ]
  },
  {
   "cell_type": "code",
   "execution_count": 34,
   "metadata": {},
   "outputs": [
    {
     "name": "stdout",
     "output_type": "stream",
     "text": [
      "                            OLS Regression Results                            \n",
      "==============================================================================\n",
      "Dep. Variable:     CloseHP_diff_Ratio   R-squared:                       0.549\n",
      "Model:                            OLS   Adj. R-squared:                  0.547\n",
      "Method:                 Least Squares   F-statistic:                     299.4\n",
      "Date:                Fri, 09 Dec 2022   Prob (F-statistic):           2.03e-44\n",
      "Time:                        04:22:11   Log-Likelihood:                 824.33\n",
      "No. Observations:                 248   AIC:                            -1645.\n",
      "Df Residuals:                     246   BIC:                            -1638.\n",
      "Df Model:                           1                                         \n",
      "Covariance Type:            nonrobust                                         \n",
      "======================================================================================\n",
      "                         coef    std err          t      P>|t|      [0.025      0.975]\n",
      "--------------------------------------------------------------------------------------\n",
      "Intercept             -0.0001      0.001     -0.237      0.813      -0.001       0.001\n",
      "CloseSP_diff_Ratio     0.8871      0.051     17.302      0.000       0.786       0.988\n",
      "==============================================================================\n",
      "Omnibus:                       51.931   Durbin-Watson:                   1.789\n",
      "Prob(Omnibus):                  0.000   Jarque-Bera (JB):              726.631\n",
      "Skew:                           0.202   Prob(JB):                    1.64e-158\n",
      "Kurtosis:                      11.376   Cond. No.                         92.3\n",
      "==============================================================================\n",
      "\n",
      "Notes:\n",
      "[1] Standard Errors assume that the covariance matrix of the errors is correctly specified.\n"
     ]
    }
   ],
   "source": [
    "df = df_hp_sp500_2018[['CloseHP_diff_Ratio','CloseSP_diff_Ratio']]\n",
    "df.columns = ['CloseHP_diff_Ratio', 'CloseSP_diff_Ratio']\n",
    "df.head()\n",
    "outcome, predictors = patsy.dmatrices('CloseHP_diff_Ratio ~ CloseSP_diff_Ratio', df)\n",
    "mod_log = sm.OLS(outcome, predictors)\n",
    "res_log = mod_log.fit()\n",
    "print(res_log.summary())"
   ]
  },
  {
   "cell_type": "code",
   "execution_count": 35,
   "metadata": {},
   "outputs": [
    {
     "name": "stdout",
     "output_type": "stream",
     "text": [
      "                            OLS Regression Results                            \n",
      "==============================================================================\n",
      "Dep. Variable:     CloseHP_diff_Ratio   R-squared:                       0.412\n",
      "Model:                            OLS   Adj. R-squared:                  0.409\n",
      "Method:                 Least Squares   F-statistic:                     170.0\n",
      "Date:                Fri, 09 Dec 2022   Prob (F-statistic):           8.06e-30\n",
      "Time:                        04:22:11   Log-Likelihood:                 786.03\n",
      "No. Observations:                 245   AIC:                            -1568.\n",
      "Df Residuals:                     243   BIC:                            -1561.\n",
      "Df Model:                           1                                         \n",
      "Covariance Type:            nonrobust                                         \n",
      "======================================================================================\n",
      "                         coef    std err          t      P>|t|      [0.025      0.975]\n",
      "--------------------------------------------------------------------------------------\n",
      "Intercept             -0.0003      0.001     -0.440      0.660      -0.002       0.001\n",
      "CloseSP_diff_Ratio     1.0268      0.079     13.040      0.000       0.872       1.182\n",
      "==============================================================================\n",
      "Omnibus:                      242.564   Durbin-Watson:                   2.055\n",
      "Prob(Omnibus):                  0.000   Jarque-Bera (JB):            10232.885\n",
      "Skew:                          -3.770   Prob(JB):                         0.00\n",
      "Kurtosis:                      33.750   Cond. No.                         125.\n",
      "==============================================================================\n",
      "\n",
      "Notes:\n",
      "[1] Standard Errors assume that the covariance matrix of the errors is correctly specified.\n"
     ]
    }
   ],
   "source": [
    "df = df_hp_sp500_2019[['CloseHP_diff_Ratio','CloseSP_diff_Ratio']]\n",
    "df.columns = ['CloseHP_diff_Ratio', 'CloseSP_diff_Ratio']\n",
    "df.head()\n",
    "outcome, predictors = patsy.dmatrices('CloseHP_diff_Ratio ~ CloseSP_diff_Ratio', df)\n",
    "mod_log = sm.OLS(outcome, predictors)\n",
    "res_log = mod_log.fit()\n",
    "print(res_log.summary())"
   ]
  },
  {
   "cell_type": "markdown",
   "metadata": {},
   "source": [
    "Although OLS Regression Results show that 2019 has a higher coef, both years have a postive coef with a p-value close to 0. That means overall, we reject the null hypothesis, and there is a positive relationship between SP 500 stock and hopitality industry related stock. "
   ]
  },
  {
   "cell_type": "markdown",
   "metadata": {},
   "source": [
    "# Ethics & Privacy"
   ]
  },
  {
   "cell_type": "markdown",
   "metadata": {},
   "source": [
    "\n",
    "There should not be any issues with terms of use if we buy the data sets we use legally. The data collected also does not violate privacy because it is stored anonymously and not associated with any individuals. Our data sets are reflective of publicly-shared companies whose quarterly financials are available to the public. Additionally, the data was publicly reported so it should be collected credibly. The conclusions drawn from the data will also probably not be used to create models that are used to make impactful or influential decisions. To detect these specific biases during the process of the analysis, we will consider if there are any factors that would cause confirmation bias, selection bias, outliers, or confounding variables.One of our primary confounding variables was season, as it contributed to the likelihood of whether or not individuals could or would want to go on a trip; irregardless of the S&P index. This led to one of our secondary confounding variables; holidays. We knew that holiday seasons would naturally cause a spike in travel bookings. Additionally we realized that government policies could play a role in what countries are safe for travel; thereby haltering or increasing the amount of travel across the board.\n",
    "\n",
    "While we initially considered the issue of possibly needing individual consumer’s travel data, we realized that using publicly available company quarterly reports was a sufficient signifier of industry health. If we come across issues, we plan to explore other mechanisms of analysis or alternate wrangling techniques that do not involve individual consumers’ travel data.\n",
    "\n",
    "\n"
   ]
  },
  {
   "cell_type": "markdown",
   "metadata": {},
   "source": [
    "# Conclusion & Discussion"
   ]
  },
  {
   "cell_type": "markdown",
   "metadata": {},
   "source": [
    "In conclusion, the results of our data analysis support our hypothesis. There was a statistically significant positive correlation between tourism in terms of the success of the hospitality industry and the overall health of the stock market determined by the close data of S&P 500 and close data from the 10 most successful companies in the hospitality industry from the beginning of 2018 to the end of 2019. The data from 2019 showed a stronger positive correlation between tourism and the hospitality industry, but nonetheless, the 2018 data also showed a strong positive correlation. \n",
    "\n",
    "There are limitations to how strongly we can draw conclusions since we only used data from two years. Additionally, some fluctuations in tourism could have also been caused by government policies (e.g travel bans), seasons (e.g summer has better weather for sightseeing), and holidays (e.g people tend to travel to be with loved ones) which may have affected our data analysis.\n",
    "\n",
    "This data analysis could be useful for companies in the hospitality industry, as they can refer to the past correlations and trends that we explored here while making decisions in the present or future. For instance, a company in the hospitality industry can choose to run promotions when the stock market is dipping in an effort to boost tourism, as tourism would also slow down with the stock market. \n",
    "\n",
    "    "
   ]
  },
  {
   "cell_type": "markdown",
   "metadata": {},
   "source": [
    "# Team Contributions"
   ]
  },
  {
   "cell_type": "markdown",
   "metadata": {},
   "source": [
    "Kevin Su: Participated in writing the background and prior study section and found both sources;listed and described the data sets; executed data analysis and statistical test;\n",
    "\n",
    "Sujana Nagasuri: Wrote the overview section, helped write the research question, background and prior work, and the hypothesis section. Also did the data setup section and performed some of the data cleaning. Also explained the EDA section. \n",
    "\n",
    "Jahnavi Handral: Helped formulate research question and hypothesis, helped with EDA, data cleaning, and data wrangling, helped set up dataframes, and wrote conclusion section\n",
    "\n",
    "Muskaan Bajaj: Wrote the ethics portion, helped with background and prior work. Additionally helped with hypothesis section, industry categorization, and data cleaning. \n",
    "\n",
    "Shenova Davis: Participated in formulating research question; help with statistical testing; helped write ethics section; helped formulate hypothesis"
   ]
  }
 ],
 "metadata": {
  "kernelspec": {
   "display_name": "Python 3 (ipykernel)",
   "language": "python",
   "name": "python3"
  },
  "language_info": {
   "codemirror_mode": {
    "name": "ipython",
    "version": 3
   },
   "file_extension": ".py",
   "mimetype": "text/x-python",
   "name": "python",
   "nbconvert_exporter": "python",
   "pygments_lexer": "ipython3",
   "version": "3.9.5"
  }
 },
 "nbformat": 4,
 "nbformat_minor": 2
}
