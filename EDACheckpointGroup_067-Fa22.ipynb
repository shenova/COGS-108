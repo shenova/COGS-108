{
 "cells": [
  {
   "cell_type": "markdown",
   "metadata": {},
   "source": [
    "# COGS 108 - EDA Checkpoint"
   ]
  },
  {
   "cell_type": "markdown",
   "metadata": {},
   "source": [
    "# Names\n",
    "\n",
    "- Kevin Su\n",
    "- Sujana Nagasuri\n",
    "- Muskaan Bajaj\n",
    "- Shenova Davis\n",
    "- Jahnavi Handral"
   ]
  },
  {
   "cell_type": "markdown",
   "metadata": {},
   "source": [
    "<a id='research_question'></a>\n",
    "# Research Question"
   ]
  },
  {
   "cell_type": "markdown",
   "metadata": {},
   "source": [
    "From beginning of 2018 to end of 2019, was there a statistically positive significant correlation between tourism in terms of the success of the  hospitality industry and its primary categories (travel & tourism, food & beverage, lodging, outdoor/recreation) and the overall health of the stock market determined by the S&P 500?"
   ]
  },
  {
   "cell_type": "markdown",
   "metadata": {},
   "source": [
    "# Setup"
   ]
  },
  {
   "cell_type": "code",
   "execution_count": 1,
   "metadata": {},
   "outputs": [],
   "source": [
    "import pandas as pd \n",
    "import numpy as np\n",
    "import seaborn as sns \n",
    "import matplotlib.pyplot as plt"
   ]
  },
  {
   "cell_type": "code",
   "execution_count": 2,
   "metadata": {},
   "outputs": [],
   "source": [
    "df1 = pd.read_csv('S&Pdata.csv')\n",
    "df2 = pd.read_csv('WaltDisneydata.csv')\n",
    "df3 = pd.read_csv('Hiltondata.csv')\n",
    "df4 = pd.read_csv('MarriotINTdata.csv')\n",
    "df5 = pd.read_csv('MarriotVACdata.csv')\n",
    "df6 = pd.read_csv('PepsiCodata.csv')\n",
    "df7 = pd.read_csv('TYSONdata.csv')\n",
    "df8 = pd.read_csv('Nestledata.csv')\n",
    "df9 = pd.read_csv('IHGdata.csv')\n",
    "df10 = pd.read_csv('EXPdata.csv')\n",
    "df11 = pd.read_csv('BKNGdata.csv')\n",
    "df12 = pd.read_csv('Hiltondata.csv')"
   ]
  },
  {
   "cell_type": "code",
   "execution_count": 3,
   "metadata": {},
   "outputs": [],
   "source": [
    "df_a = pd.read_csv('S&Pdata2.csv')\n",
    "df_b = pd.read_csv('WaltDisneydata2.csv')\n",
    "df_c = pd.read_csv('Hiltondata2.csv')\n",
    "df_d = pd.read_csv('MarriotINT2data.csv')\n",
    "df_e = pd.read_csv('MarriotVACdata2.csv')\n",
    "df_f = pd.read_csv('PepsiCodata2.csv')\n",
    "df_g = pd.read_csv('TYSONdata2.csv')\n",
    "df_h = pd.read_csv('Nestledata2.csv')\n",
    "df_i = pd.read_csv('IHGdata2.csv')\n",
    "df_j = pd.read_csv('EXPdata2.csv')\n",
    "df_k = pd.read_csv('BKNGdata2.csv')\n",
    "df_l = pd.read_csv('Hiltondata2.csv')"
   ]
  },
  {
   "cell_type": "markdown",
   "metadata": {},
   "source": [
    "# Data Cleaning"
   ]
  },
  {
   "cell_type": "markdown",
   "metadata": {},
   "source": [
    "Initially, to clean our 12 sets of data, we started by dropping columns we deemed unnessary from the dataframes. The S&P dataframe only had 3 columns to drop but the other 11 dataframes had 4 columns to drop. Then, after determining the types in the columns, we changed the types (objects) to floats. Then we combined all of the dataframes (minus the S&P one) into a singular dataframe where we had a column with the date and a column with the combined closing number (this included all of the 11 companies closing values added together for each date).\n",
    "\n",
    "For further data cleaning involved with this checkpoint, we downloaded more CSV files which correlated with another year as we felt we needed more datasets to perform a good statistical analysis. Since Marketwatch only allowed us to download data for one year at a time, we had to combine these data frames and ensure that we did not repeat the indices to avoid confusion further into our data gathering process. Therefore we used the concat() function to join these two and set the ignore_index argument to be True to avoid repeating our indices. Then we proceeded to continue as we have with dropping our unnecessary columns so that we only have the date column and the close column. Then we converted the close type to float in order to use this with data in our data visualization. \n",
    "\n",
    "Then we created an additional dataframe with the combined closing rate of all of the companies within the hospitality industry that we were examining. For further analysis, we also created a dataframe which included the combine close rate and the individual close rate of each company for each date in a separate column. After converting the d types to the appropriate type, we proceeded to create another dataframe that included a column with the combined close rate for the hospitality industry companies and another columns with the S&P close rate. A third column in this dataframe was the ratio between these two columns. The last column within this dataframe was the realtive difference ratio between these two columns which helped us determine the rate of change between the two variables.  \n",
    "\n"
   ]
  },
  {
   "cell_type": "code",
   "execution_count": 4,
   "metadata": {},
   "outputs": [],
   "source": [
    "df1 = pd.concat([df1, df_a], ignore_index=True)\n",
    "df2 = pd.concat([df2, df_b], ignore_index=True)\n",
    "df3 = pd.concat([df3, df_c], ignore_index=True)\n",
    "df4 = pd.concat([df4, df_d], ignore_index=True)\n",
    "df5 = pd.concat([df5, df_e], ignore_index=True)\n",
    "df6 = pd.concat([df6, df_f], ignore_index=True)\n",
    "df7 = pd.concat([df7, df_g], ignore_index=True)\n",
    "df8 = pd.concat([df8, df_h], ignore_index=True)\n",
    "df9 = pd.concat([df9, df_i], ignore_index=True)\n",
    "df10 = pd.concat([df10, df_j], ignore_index=True)\n",
    "df11 = pd.concat([df11, df_k], ignore_index=True)\n",
    "df12 = pd.concat([df12, df_l], ignore_index=True)"
   ]
  },
  {
   "cell_type": "code",
   "execution_count": 5,
   "metadata": {},
   "outputs": [
    {
     "data": {
      "text/plain": [
       "Date      object\n",
       "Close    float64\n",
       "dtype: object"
      ]
     },
     "execution_count": 5,
     "metadata": {},
     "output_type": "execute_result"
    }
   ],
   "source": [
    "# remove extra columns for S&P data\n",
    "df_sp = df1.drop(columns=['Open','High','Low'])\n",
    "df2 = df2.drop(columns=['Open','High','Low','Volume'])\n",
    "df3 = df3.drop(columns=['Open','High','Low','Volume'])\n",
    "df4 = df4.drop(columns=['Open','High','Low','Volume'])\n",
    "df5 = df5.drop(columns=['Open','High','Low','Volume'])\n",
    "df6 = df6.drop(columns=['Open','High','Low','Volume'])\n",
    "df7 = df7.drop(columns=['Open','High','Low','Volume'])\n",
    "df8 = df8.drop(columns=['Open','High','Low','Volume'])\n",
    "df9 = df9.drop(columns=['Open','High','Low','Volume'])\n",
    "df10 = df10.drop(columns=['Open','High','Low','Volume'])\n",
    "df11 = df11.drop(columns=['Open','High','Low','Volume'])\n",
    "df12 = df12.drop(columns=['Open','High','Low','Volume'])\n",
    "df2.dtypes"
   ]
  },
  {
   "cell_type": "code",
   "execution_count": 6,
   "metadata": {},
   "outputs": [],
   "source": [
    "def stringToFloat (str_in):\n",
    "    if ',' in str_in:\n",
    "        str_in = str_in.replace(',', '')\n",
    "        output = float(str_in)\n",
    "    else:\n",
    "        output = float(str_in)\n",
    "        \n",
    "    return output"
   ]
  },
  {
   "cell_type": "code",
   "execution_count": 7,
   "metadata": {},
   "outputs": [],
   "source": [
    "df11[\"Close\"] = df11[\"Close\"].apply(stringToFloat)"
   ]
  },
  {
   "cell_type": "code",
   "execution_count": 8,
   "metadata": {},
   "outputs": [
    {
     "data": {
      "text/html": [
       "<div>\n",
       "<style scoped>\n",
       "    .dataframe tbody tr th:only-of-type {\n",
       "        vertical-align: middle;\n",
       "    }\n",
       "\n",
       "    .dataframe tbody tr th {\n",
       "        vertical-align: top;\n",
       "    }\n",
       "\n",
       "    .dataframe thead th {\n",
       "        text-align: right;\n",
       "    }\n",
       "</style>\n",
       "<table border=\"1\" class=\"dataframe\">\n",
       "  <thead>\n",
       "    <tr style=\"text-align: right;\">\n",
       "      <th></th>\n",
       "      <th>Date</th>\n",
       "      <th>Close</th>\n",
       "    </tr>\n",
       "  </thead>\n",
       "  <tbody>\n",
       "    <tr>\n",
       "      <th>0</th>\n",
       "      <td>12/31/2018</td>\n",
       "      <td>2569.69</td>\n",
       "    </tr>\n",
       "    <tr>\n",
       "      <th>1</th>\n",
       "      <td>12/28/2018</td>\n",
       "      <td>2555.00</td>\n",
       "    </tr>\n",
       "    <tr>\n",
       "      <th>2</th>\n",
       "      <td>12/27/2018</td>\n",
       "      <td>2550.78</td>\n",
       "    </tr>\n",
       "    <tr>\n",
       "      <th>3</th>\n",
       "      <td>12/26/2018</td>\n",
       "      <td>2531.88</td>\n",
       "    </tr>\n",
       "    <tr>\n",
       "      <th>4</th>\n",
       "      <td>12/24/2018</td>\n",
       "      <td>2412.51</td>\n",
       "    </tr>\n",
       "    <tr>\n",
       "      <th>...</th>\n",
       "      <td>...</td>\n",
       "      <td>...</td>\n",
       "    </tr>\n",
       "    <tr>\n",
       "      <th>498</th>\n",
       "      <td>01/08/2019</td>\n",
       "      <td>2556.35</td>\n",
       "    </tr>\n",
       "    <tr>\n",
       "      <th>499</th>\n",
       "      <td>01/07/2019</td>\n",
       "      <td>2567.11</td>\n",
       "    </tr>\n",
       "    <tr>\n",
       "      <th>500</th>\n",
       "      <td>01/04/2019</td>\n",
       "      <td>2568.02</td>\n",
       "    </tr>\n",
       "    <tr>\n",
       "      <th>501</th>\n",
       "      <td>01/03/2019</td>\n",
       "      <td>2482.48</td>\n",
       "    </tr>\n",
       "    <tr>\n",
       "      <th>502</th>\n",
       "      <td>01/02/2019</td>\n",
       "      <td>2561.15</td>\n",
       "    </tr>\n",
       "  </tbody>\n",
       "</table>\n",
       "<p>503 rows × 2 columns</p>\n",
       "</div>"
      ],
      "text/plain": [
       "           Date    Close\n",
       "0    12/31/2018  2569.69\n",
       "1    12/28/2018  2555.00\n",
       "2    12/27/2018  2550.78\n",
       "3    12/26/2018  2531.88\n",
       "4    12/24/2018  2412.51\n",
       "..          ...      ...\n",
       "498  01/08/2019  2556.35\n",
       "499  01/07/2019  2567.11\n",
       "500  01/04/2019  2568.02\n",
       "501  01/03/2019  2482.48\n",
       "502  01/02/2019  2561.15\n",
       "\n",
       "[503 rows x 2 columns]"
      ]
     },
     "execution_count": 8,
     "metadata": {},
     "output_type": "execute_result"
    }
   ],
   "source": [
    "df_companies = df2.copy()\n",
    "df_companies = df_companies.drop(columns = \"Close\")\n",
    "df_companies[\"Close\"] = df2[\"Close\"]+df3[\"Close\"]+df4[\"Close\"]+df5[\"Close\"]+df6[\"Close\"]+df7[\"Close\"]+df8[\"Close\"]+df9[\"Close\"]+df10[\"Close\"]\n",
    "df_companies[\"Close\"] = df_companies[\"Close\"] + df11[\"Close\"] + df12[\"Close\"]\n",
    "df_companies"
   ]
  },
  {
   "cell_type": "code",
   "execution_count": 9,
   "metadata": {},
   "outputs": [
    {
     "data": {
      "text/html": [
       "<div>\n",
       "<style scoped>\n",
       "    .dataframe tbody tr th:only-of-type {\n",
       "        vertical-align: middle;\n",
       "    }\n",
       "\n",
       "    .dataframe tbody tr th {\n",
       "        vertical-align: top;\n",
       "    }\n",
       "\n",
       "    .dataframe thead th {\n",
       "        text-align: right;\n",
       "    }\n",
       "</style>\n",
       "<table border=\"1\" class=\"dataframe\">\n",
       "  <thead>\n",
       "    <tr style=\"text-align: right;\">\n",
       "      <th></th>\n",
       "      <th>Date</th>\n",
       "      <th>Close</th>\n",
       "      <th>Close2</th>\n",
       "      <th>Close3</th>\n",
       "      <th>Close4</th>\n",
       "      <th>Close5</th>\n",
       "      <th>Close6</th>\n",
       "      <th>Close7</th>\n",
       "      <th>Close8</th>\n",
       "      <th>Close9</th>\n",
       "      <th>Close10</th>\n",
       "    </tr>\n",
       "  </thead>\n",
       "  <tbody>\n",
       "    <tr>\n",
       "      <th>0</th>\n",
       "      <td>12/31/2018</td>\n",
       "      <td>2569.69</td>\n",
       "      <td>109.65</td>\n",
       "      <td>71.80</td>\n",
       "      <td>108.56</td>\n",
       "      <td>70.51</td>\n",
       "      <td>110.48</td>\n",
       "      <td>53.40</td>\n",
       "      <td>80.96</td>\n",
       "      <td>57.46</td>\n",
       "      <td>112.65</td>\n",
       "    </tr>\n",
       "    <tr>\n",
       "      <th>1</th>\n",
       "      <td>12/28/2018</td>\n",
       "      <td>2555.00</td>\n",
       "      <td>107.30</td>\n",
       "      <td>70.95</td>\n",
       "      <td>107.24</td>\n",
       "      <td>69.61</td>\n",
       "      <td>110.36</td>\n",
       "      <td>52.34</td>\n",
       "      <td>80.72</td>\n",
       "      <td>56.41</td>\n",
       "      <td>113.29</td>\n",
       "    </tr>\n",
       "    <tr>\n",
       "      <th>2</th>\n",
       "      <td>12/27/2018</td>\n",
       "      <td>2550.78</td>\n",
       "      <td>106.52</td>\n",
       "      <td>70.33</td>\n",
       "      <td>106.63</td>\n",
       "      <td>67.99</td>\n",
       "      <td>109.42</td>\n",
       "      <td>52.49</td>\n",
       "      <td>79.53</td>\n",
       "      <td>55.37</td>\n",
       "      <td>114.37</td>\n",
       "    </tr>\n",
       "    <tr>\n",
       "      <th>3</th>\n",
       "      <td>12/26/2018</td>\n",
       "      <td>2531.88</td>\n",
       "      <td>105.83</td>\n",
       "      <td>69.51</td>\n",
       "      <td>105.58</td>\n",
       "      <td>66.84</td>\n",
       "      <td>108.33</td>\n",
       "      <td>52.06</td>\n",
       "      <td>80.90</td>\n",
       "      <td>55.87</td>\n",
       "      <td>114.20</td>\n",
       "    </tr>\n",
       "    <tr>\n",
       "      <th>4</th>\n",
       "      <td>12/24/2018</td>\n",
       "      <td>2412.51</td>\n",
       "      <td>100.35</td>\n",
       "      <td>66.51</td>\n",
       "      <td>100.99</td>\n",
       "      <td>61.33</td>\n",
       "      <td>106.03</td>\n",
       "      <td>50.75</td>\n",
       "      <td>80.04</td>\n",
       "      <td>54.07</td>\n",
       "      <td>109.10</td>\n",
       "    </tr>\n",
       "    <tr>\n",
       "      <th>...</th>\n",
       "      <td>...</td>\n",
       "      <td>...</td>\n",
       "      <td>...</td>\n",
       "      <td>...</td>\n",
       "      <td>...</td>\n",
       "      <td>...</td>\n",
       "      <td>...</td>\n",
       "      <td>...</td>\n",
       "      <td>...</td>\n",
       "      <td>...</td>\n",
       "      <td>...</td>\n",
       "    </tr>\n",
       "    <tr>\n",
       "      <th>498</th>\n",
       "      <td>01/08/2019</td>\n",
       "      <td>2556.35</td>\n",
       "      <td>111.42</td>\n",
       "      <td>71.86</td>\n",
       "      <td>109.76</td>\n",
       "      <td>77.92</td>\n",
       "      <td>110.58</td>\n",
       "      <td>57.55</td>\n",
       "      <td>82.97</td>\n",
       "      <td>58.54</td>\n",
       "      <td>116.97</td>\n",
       "    </tr>\n",
       "    <tr>\n",
       "      <th>499</th>\n",
       "      <td>01/07/2019</td>\n",
       "      <td>2567.11</td>\n",
       "      <td>110.56</td>\n",
       "      <td>70.74</td>\n",
       "      <td>108.01</td>\n",
       "      <td>75.35</td>\n",
       "      <td>109.53</td>\n",
       "      <td>56.05</td>\n",
       "      <td>82.71</td>\n",
       "      <td>57.04</td>\n",
       "      <td>114.56</td>\n",
       "    </tr>\n",
       "    <tr>\n",
       "      <th>500</th>\n",
       "      <td>01/04/2019</td>\n",
       "      <td>2568.02</td>\n",
       "      <td>109.61</td>\n",
       "      <td>69.94</td>\n",
       "      <td>107.81</td>\n",
       "      <td>73.28</td>\n",
       "      <td>110.48</td>\n",
       "      <td>55.16</td>\n",
       "      <td>83.59</td>\n",
       "      <td>57.57</td>\n",
       "      <td>113.09</td>\n",
       "    </tr>\n",
       "    <tr>\n",
       "      <th>501</th>\n",
       "      <td>01/03/2019</td>\n",
       "      <td>2482.48</td>\n",
       "      <td>106.33</td>\n",
       "      <td>67.30</td>\n",
       "      <td>101.74</td>\n",
       "      <td>68.13</td>\n",
       "      <td>108.26</td>\n",
       "      <td>54.49</td>\n",
       "      <td>82.21</td>\n",
       "      <td>55.08</td>\n",
       "      <td>108.52</td>\n",
       "    </tr>\n",
       "    <tr>\n",
       "      <th>502</th>\n",
       "      <td>01/02/2019</td>\n",
       "      <td>2561.15</td>\n",
       "      <td>108.97</td>\n",
       "      <td>70.94</td>\n",
       "      <td>107.46</td>\n",
       "      <td>69.98</td>\n",
       "      <td>109.28</td>\n",
       "      <td>53.35</td>\n",
       "      <td>80.17</td>\n",
       "      <td>56.38</td>\n",
       "      <td>111.98</td>\n",
       "    </tr>\n",
       "  </tbody>\n",
       "</table>\n",
       "<p>503 rows × 11 columns</p>\n",
       "</div>"
      ],
      "text/plain": [
       "           Date    Close  Close2  Close3  Close4  Close5  Close6  Close7  \\\n",
       "0    12/31/2018  2569.69  109.65   71.80  108.56   70.51  110.48   53.40   \n",
       "1    12/28/2018  2555.00  107.30   70.95  107.24   69.61  110.36   52.34   \n",
       "2    12/27/2018  2550.78  106.52   70.33  106.63   67.99  109.42   52.49   \n",
       "3    12/26/2018  2531.88  105.83   69.51  105.58   66.84  108.33   52.06   \n",
       "4    12/24/2018  2412.51  100.35   66.51  100.99   61.33  106.03   50.75   \n",
       "..          ...      ...     ...     ...     ...     ...     ...     ...   \n",
       "498  01/08/2019  2556.35  111.42   71.86  109.76   77.92  110.58   57.55   \n",
       "499  01/07/2019  2567.11  110.56   70.74  108.01   75.35  109.53   56.05   \n",
       "500  01/04/2019  2568.02  109.61   69.94  107.81   73.28  110.48   55.16   \n",
       "501  01/03/2019  2482.48  106.33   67.30  101.74   68.13  108.26   54.49   \n",
       "502  01/02/2019  2561.15  108.97   70.94  107.46   69.98  109.28   53.35   \n",
       "\n",
       "     Close8  Close9  Close10  \n",
       "0     80.96   57.46   112.65  \n",
       "1     80.72   56.41   113.29  \n",
       "2     79.53   55.37   114.37  \n",
       "3     80.90   55.87   114.20  \n",
       "4     80.04   54.07   109.10  \n",
       "..      ...     ...      ...  \n",
       "498   82.97   58.54   116.97  \n",
       "499   82.71   57.04   114.56  \n",
       "500   83.59   57.57   113.09  \n",
       "501   82.21   55.08   108.52  \n",
       "502   80.17   56.38   111.98  \n",
       "\n",
       "[503 rows x 11 columns]"
      ]
     },
     "execution_count": 9,
     "metadata": {},
     "output_type": "execute_result"
    }
   ],
   "source": [
    "df_companies_full = df_companies.copy()\n",
    "df_companies_full[\"Close2\"] = df2[\"Close\"]\n",
    "df_companies_full[\"Close3\"] = df3[\"Close\"]\n",
    "df_companies_full[\"Close4\"]= df4[\"Close\"]\n",
    "df_companies_full[\"Close5\"] = df5[\"Close\"]\n",
    "df_companies_full[\"Close6\"] = df6[\"Close\"]\n",
    "df_companies_full[\"Close7\"] = df7[\"Close\"]\n",
    "df_companies_full[\"Close8\"] = df8[\"Close\"]\n",
    "df_companies_full[\"Close9\"] = df9[\"Close\"]\n",
    "df_companies_full[\"Close10\"] = df10[\"Close\"]\n",
    "df_companies_full"
   ]
  },
  {
   "cell_type": "code",
   "execution_count": 10,
   "metadata": {},
   "outputs": [],
   "source": [
    "df_sp[\"Close\"] = df_sp[\"Close\"].apply(stringToFloat)"
   ]
  },
  {
   "cell_type": "code",
   "execution_count": 11,
   "metadata": {},
   "outputs": [
    {
     "data": {
      "text/html": [
       "<div>\n",
       "<style scoped>\n",
       "    .dataframe tbody tr th:only-of-type {\n",
       "        vertical-align: middle;\n",
       "    }\n",
       "\n",
       "    .dataframe tbody tr th {\n",
       "        vertical-align: top;\n",
       "    }\n",
       "\n",
       "    .dataframe thead th {\n",
       "        text-align: right;\n",
       "    }\n",
       "</style>\n",
       "<table border=\"1\" class=\"dataframe\">\n",
       "  <thead>\n",
       "    <tr style=\"text-align: right;\">\n",
       "      <th></th>\n",
       "      <th>Date</th>\n",
       "      <th>CloseHP</th>\n",
       "      <th>CloseSP</th>\n",
       "      <th>Ratio</th>\n",
       "    </tr>\n",
       "  </thead>\n",
       "  <tbody>\n",
       "    <tr>\n",
       "      <th>0</th>\n",
       "      <td>12/31/2018</td>\n",
       "      <td>2569.69</td>\n",
       "      <td>2506.85</td>\n",
       "      <td>1.025067</td>\n",
       "    </tr>\n",
       "    <tr>\n",
       "      <th>1</th>\n",
       "      <td>12/28/2018</td>\n",
       "      <td>2555.00</td>\n",
       "      <td>2485.74</td>\n",
       "      <td>1.027863</td>\n",
       "    </tr>\n",
       "    <tr>\n",
       "      <th>2</th>\n",
       "      <td>12/27/2018</td>\n",
       "      <td>2550.78</td>\n",
       "      <td>2488.83</td>\n",
       "      <td>1.024891</td>\n",
       "    </tr>\n",
       "    <tr>\n",
       "      <th>3</th>\n",
       "      <td>12/26/2018</td>\n",
       "      <td>2531.88</td>\n",
       "      <td>2467.70</td>\n",
       "      <td>1.026008</td>\n",
       "    </tr>\n",
       "    <tr>\n",
       "      <th>4</th>\n",
       "      <td>12/24/2018</td>\n",
       "      <td>2412.51</td>\n",
       "      <td>2351.10</td>\n",
       "      <td>1.026120</td>\n",
       "    </tr>\n",
       "    <tr>\n",
       "      <th>...</th>\n",
       "      <td>...</td>\n",
       "      <td>...</td>\n",
       "      <td>...</td>\n",
       "      <td>...</td>\n",
       "    </tr>\n",
       "    <tr>\n",
       "      <th>498</th>\n",
       "      <td>01/08/2019</td>\n",
       "      <td>2556.35</td>\n",
       "      <td>2574.41</td>\n",
       "      <td>0.992985</td>\n",
       "    </tr>\n",
       "    <tr>\n",
       "      <th>499</th>\n",
       "      <td>01/07/2019</td>\n",
       "      <td>2567.11</td>\n",
       "      <td>2549.69</td>\n",
       "      <td>1.006832</td>\n",
       "    </tr>\n",
       "    <tr>\n",
       "      <th>500</th>\n",
       "      <td>01/04/2019</td>\n",
       "      <td>2568.02</td>\n",
       "      <td>2531.94</td>\n",
       "      <td>1.014250</td>\n",
       "    </tr>\n",
       "    <tr>\n",
       "      <th>501</th>\n",
       "      <td>01/03/2019</td>\n",
       "      <td>2482.48</td>\n",
       "      <td>2447.89</td>\n",
       "      <td>1.014131</td>\n",
       "    </tr>\n",
       "    <tr>\n",
       "      <th>502</th>\n",
       "      <td>01/02/2019</td>\n",
       "      <td>2561.15</td>\n",
       "      <td>2510.03</td>\n",
       "      <td>1.020366</td>\n",
       "    </tr>\n",
       "  </tbody>\n",
       "</table>\n",
       "<p>503 rows × 4 columns</p>\n",
       "</div>"
      ],
      "text/plain": [
       "           Date  CloseHP  CloseSP     Ratio\n",
       "0    12/31/2018  2569.69  2506.85  1.025067\n",
       "1    12/28/2018  2555.00  2485.74  1.027863\n",
       "2    12/27/2018  2550.78  2488.83  1.024891\n",
       "3    12/26/2018  2531.88  2467.70  1.026008\n",
       "4    12/24/2018  2412.51  2351.10  1.026120\n",
       "..          ...      ...      ...       ...\n",
       "498  01/08/2019  2556.35  2574.41  0.992985\n",
       "499  01/07/2019  2567.11  2549.69  1.006832\n",
       "500  01/04/2019  2568.02  2531.94  1.014250\n",
       "501  01/03/2019  2482.48  2447.89  1.014131\n",
       "502  01/02/2019  2561.15  2510.03  1.020366\n",
       "\n",
       "[503 rows x 4 columns]"
      ]
     },
     "execution_count": 11,
     "metadata": {},
     "output_type": "execute_result"
    }
   ],
   "source": [
    "df_hp_sp500 = df_companies.copy()\n",
    "df_hp_sp500['CloseSP'] = df_sp['Close']\n",
    "df_hp_sp500.rename(columns={'Close':'CloseHP'}, inplace=True)\n",
    "df_hp_sp500['Ratio'] = df_hp_sp500['CloseHP']/df_hp_sp500['CloseSP']\n",
    "df_hp_sp500"
   ]
  },
  {
   "cell_type": "code",
   "execution_count": 12,
   "metadata": {},
   "outputs": [
    {
     "data": {
      "text/plain": [
       "0      0.677015\n",
       "1     -1.332528\n",
       "2      0.871789\n",
       "3      0.997697\n",
       "4      0.442429\n",
       "         ...   \n",
       "497   -4.273582\n",
       "498   -0.432321\n",
       "499   -0.050547\n",
       "500    1.003547\n",
       "501    1.240743\n",
       "Length: 502, dtype: float64"
      ]
     },
     "execution_count": 12,
     "metadata": {},
     "output_type": "execute_result"
    }
   ],
   "source": [
    "df_CloseHP1 = df_hp_sp500['CloseHP'].drop(index=0).reset_index(drop=True)\n",
    "df_CloseHP2 = df_hp_sp500['CloseHP'].drop(index=502).reset_index(drop=True)\n",
    "df_CloseHPdf = (df_CloseHP1-df_CloseHP2)/df_CloseHP1\n",
    "df_CloseSP1 = df_hp_sp500['CloseSP'].drop(index=0).reset_index(drop=True)\n",
    "df_CloseSP2 = df_hp_sp500['CloseSP'].drop(index=502).reset_index(drop=True)\n",
    "df_CloseSPdf = (df_CloseSP1-df_CloseSP2)/df_CloseSP1\n",
    "df_rel_diff = df_CloseHPdf/df_CloseSPdf\n",
    "df_rel_diff\n"
   ]
  },
  {
   "cell_type": "code",
   "execution_count": 13,
   "metadata": {},
   "outputs": [
    {
     "data": {
      "text/html": [
       "<div>\n",
       "<style scoped>\n",
       "    .dataframe tbody tr th:only-of-type {\n",
       "        vertical-align: middle;\n",
       "    }\n",
       "\n",
       "    .dataframe tbody tr th {\n",
       "        vertical-align: top;\n",
       "    }\n",
       "\n",
       "    .dataframe thead th {\n",
       "        text-align: right;\n",
       "    }\n",
       "</style>\n",
       "<table border=\"1\" class=\"dataframe\">\n",
       "  <thead>\n",
       "    <tr style=\"text-align: right;\">\n",
       "      <th></th>\n",
       "      <th>Date</th>\n",
       "      <th>CloseHP</th>\n",
       "      <th>CloseSP</th>\n",
       "      <th>Ratio</th>\n",
       "      <th>Relative_Diff_Ratio</th>\n",
       "    </tr>\n",
       "  </thead>\n",
       "  <tbody>\n",
       "    <tr>\n",
       "      <th>0</th>\n",
       "      <td>12/31/2018</td>\n",
       "      <td>2569.69</td>\n",
       "      <td>2506.85</td>\n",
       "      <td>1.025067</td>\n",
       "      <td>0.677015</td>\n",
       "    </tr>\n",
       "    <tr>\n",
       "      <th>1</th>\n",
       "      <td>12/28/2018</td>\n",
       "      <td>2555.00</td>\n",
       "      <td>2485.74</td>\n",
       "      <td>1.027863</td>\n",
       "      <td>-1.332528</td>\n",
       "    </tr>\n",
       "    <tr>\n",
       "      <th>2</th>\n",
       "      <td>12/27/2018</td>\n",
       "      <td>2550.78</td>\n",
       "      <td>2488.83</td>\n",
       "      <td>1.024891</td>\n",
       "      <td>0.871789</td>\n",
       "    </tr>\n",
       "    <tr>\n",
       "      <th>3</th>\n",
       "      <td>12/26/2018</td>\n",
       "      <td>2531.88</td>\n",
       "      <td>2467.70</td>\n",
       "      <td>1.026008</td>\n",
       "      <td>0.997697</td>\n",
       "    </tr>\n",
       "    <tr>\n",
       "      <th>4</th>\n",
       "      <td>12/24/2018</td>\n",
       "      <td>2412.51</td>\n",
       "      <td>2351.10</td>\n",
       "      <td>1.026120</td>\n",
       "      <td>0.442429</td>\n",
       "    </tr>\n",
       "    <tr>\n",
       "      <th>...</th>\n",
       "      <td>...</td>\n",
       "      <td>...</td>\n",
       "      <td>...</td>\n",
       "      <td>...</td>\n",
       "      <td>...</td>\n",
       "    </tr>\n",
       "    <tr>\n",
       "      <th>498</th>\n",
       "      <td>01/08/2019</td>\n",
       "      <td>2556.35</td>\n",
       "      <td>2574.41</td>\n",
       "      <td>0.992985</td>\n",
       "      <td>-0.432321</td>\n",
       "    </tr>\n",
       "    <tr>\n",
       "      <th>499</th>\n",
       "      <td>01/07/2019</td>\n",
       "      <td>2567.11</td>\n",
       "      <td>2549.69</td>\n",
       "      <td>1.006832</td>\n",
       "      <td>-0.050547</td>\n",
       "    </tr>\n",
       "    <tr>\n",
       "      <th>500</th>\n",
       "      <td>01/04/2019</td>\n",
       "      <td>2568.02</td>\n",
       "      <td>2531.94</td>\n",
       "      <td>1.014250</td>\n",
       "      <td>1.003547</td>\n",
       "    </tr>\n",
       "    <tr>\n",
       "      <th>501</th>\n",
       "      <td>01/03/2019</td>\n",
       "      <td>2482.48</td>\n",
       "      <td>2447.89</td>\n",
       "      <td>1.014131</td>\n",
       "      <td>1.240743</td>\n",
       "    </tr>\n",
       "    <tr>\n",
       "      <th>502</th>\n",
       "      <td>01/02/2019</td>\n",
       "      <td>2561.15</td>\n",
       "      <td>2510.03</td>\n",
       "      <td>1.020366</td>\n",
       "      <td>NaN</td>\n",
       "    </tr>\n",
       "  </tbody>\n",
       "</table>\n",
       "<p>503 rows × 5 columns</p>\n",
       "</div>"
      ],
      "text/plain": [
       "           Date  CloseHP  CloseSP     Ratio  Relative_Diff_Ratio\n",
       "0    12/31/2018  2569.69  2506.85  1.025067             0.677015\n",
       "1    12/28/2018  2555.00  2485.74  1.027863            -1.332528\n",
       "2    12/27/2018  2550.78  2488.83  1.024891             0.871789\n",
       "3    12/26/2018  2531.88  2467.70  1.026008             0.997697\n",
       "4    12/24/2018  2412.51  2351.10  1.026120             0.442429\n",
       "..          ...      ...      ...       ...                  ...\n",
       "498  01/08/2019  2556.35  2574.41  0.992985            -0.432321\n",
       "499  01/07/2019  2567.11  2549.69  1.006832            -0.050547\n",
       "500  01/04/2019  2568.02  2531.94  1.014250             1.003547\n",
       "501  01/03/2019  2482.48  2447.89  1.014131             1.240743\n",
       "502  01/02/2019  2561.15  2510.03  1.020366                  NaN\n",
       "\n",
       "[503 rows x 5 columns]"
      ]
     },
     "execution_count": 13,
     "metadata": {},
     "output_type": "execute_result"
    }
   ],
   "source": [
    "df_hp_sp500['Relative_Diff_Ratio'] = df_rel_diff\n",
    "df_hp_sp500"
   ]
  },
  {
   "cell_type": "markdown",
   "metadata": {},
   "source": [
    "# EDA"
   ]
  },
  {
   "cell_type": "markdown",
   "metadata": {},
   "source": [
    "For our Exploratory Data Analysis, we started with determining the shapes of our two main datasets, the dataset containing the S&P data and the dataset containing the combined close rate for all of the companies in the hospitality industry that we were going to examine. \n",
    "\n",
    "After that, we used the describe() function to determine introductory statistics about the two variables we were trying to compare (the companies from the hospitality industry and the corresponding S&P values from that date). We specifically looked at the ratio column and the relative difference ratio from the dataset df_hp_sp500 above. These variables were helpful in allowing us to determine the relative size of the distribution and how the curve would look overall for the distribution of the two variables compared to each other. \n",
    "\n",
    "We then plotted a series of relevant figures that we used to analyze the relationship between our two variables S&P 500 close rate and the combined close rate from all the companies in the hospitality industry that we were looking at) in more detail. We go into specifics about each of these plots below under each of these distribution. "
   ]
  },
  {
   "cell_type": "code",
   "execution_count": 14,
   "metadata": {},
   "outputs": [
    {
     "data": {
      "text/plain": [
       "(503, 2)"
      ]
     },
     "execution_count": 14,
     "metadata": {},
     "output_type": "execute_result"
    }
   ],
   "source": [
    "df_sp.shape"
   ]
  },
  {
   "cell_type": "code",
   "execution_count": 15,
   "metadata": {},
   "outputs": [
    {
     "data": {
      "text/plain": [
       "(503, 2)"
      ]
     },
     "execution_count": 15,
     "metadata": {},
     "output_type": "execute_result"
    }
   ],
   "source": [
    "df_companies.shape"
   ]
  },
  {
   "cell_type": "code",
   "execution_count": 16,
   "metadata": {},
   "outputs": [
    {
     "data": {
      "text/plain": [
       "count    503.000000\n",
       "mean       1.031680\n",
       "std        0.057704\n",
       "min        0.938364\n",
       "25%        0.989821\n",
       "50%        1.021248\n",
       "75%        1.058759\n",
       "max        1.180427\n",
       "Name: Ratio, dtype: float64"
      ]
     },
     "execution_count": 16,
     "metadata": {},
     "output_type": "execute_result"
    }
   ],
   "source": [
    "df_hp_sp500['Ratio'].describe()"
   ]
  },
  {
   "cell_type": "code",
   "execution_count": 17,
   "metadata": {},
   "outputs": [
    {
     "data": {
      "text/plain": [
       "count    502.000000\n",
       "mean       1.295498\n",
       "std       29.092231\n",
       "min     -553.386917\n",
       "25%       -0.047833\n",
       "50%        0.953382\n",
       "75%        1.883161\n",
       "max      158.650026\n",
       "Name: Relative_Diff_Ratio, dtype: float64"
      ]
     },
     "execution_count": 17,
     "metadata": {},
     "output_type": "execute_result"
    }
   ],
   "source": [
    "df_hp_sp500['Relative_Diff_Ratio'].describe()"
   ]
  },
  {
   "cell_type": "code",
   "execution_count": 18,
   "metadata": {
    "scrolled": true
   },
   "outputs": [
    {
     "data": {
      "text/plain": [
       "<matplotlib.collections.PathCollection at 0x7f8e41cf27c0>"
      ]
     },
     "execution_count": 18,
     "metadata": {},
     "output_type": "execute_result"
    },
    {
     "data": {
      "image/png": "[encoded data removed]",
      "text/plain": [
       "<Figure size 432x288 with 1 Axes>"
      ]
     },
     "metadata": {
      "needs_background": "light"
     },
     "output_type": "display_data"
    }
   ],
   "source": [
    "plt.scatter(df_sp['Close'],df_companies['Close'])"
   ]
  },
  {
   "cell_type": "markdown",
   "metadata": {},
   "source": [
    "We graphed a scatter plot to look more specifically at the realtionship between the two variables (S&P 500 close rate and the combined close rate from all the companies in the hospitality industry that we were looking at). This scatter plot allowed us to determine if there was a correlation between the two variables which we determined there was definitely a positive correlation between. "
   ]
  },
  {
   "cell_type": "code",
   "execution_count": 19,
   "metadata": {},
   "outputs": [
    {
     "data": {
      "image/png": "[encoded data removed]",
      "text/plain": [
       "<Figure size 432x288 with 1 Axes>"
      ]
     },
     "metadata": {
      "needs_background": "light"
     },
     "output_type": "display_data"
    }
   ],
   "source": [
    "y_axis = df_sp['Close']\n",
    "x_axis = df_sp['Date']\n",
    "\n",
    "plt.plot(x_axis, y_axis)\n",
    "plt.title('2017-2019 SP&500 Stock Index')\n",
    "plt.ylabel('close price')\n",
    "plt.ylabel('date')\n",
    "plt.show()\n"
   ]
  },
  {
   "cell_type": "code",
   "execution_count": 20,
   "metadata": {},
   "outputs": [
    {
     "data": {
      "image/png": "[encoded data removed]",
      "text/plain": [
       "<Figure size 432x288 with 1 Axes>"
      ]
     },
     "metadata": {
      "needs_background": "light"
     },
     "output_type": "display_data"
    }
   ],
   "source": [
    "y_axis = df_companies['Close']\n",
    "x_axis = df_companies['Date']\n",
    "\n",
    "plt.plot(x_axis, y_axis)\n",
    "plt.title('2017-2019 hospitality industry stock index')\n",
    "plt.xlabel('date')\n",
    "plt.ylabel('close price')\n",
    "plt.show()"
   ]
  },
  {
   "cell_type": "code",
   "execution_count": 21,
   "metadata": {},
   "outputs": [
    {
     "data": {
      "text/plain": [
       "<AxesSubplot:xlabel='Date', ylabel='Close'>"
      ]
     },
     "execution_count": 21,
     "metadata": {},
     "output_type": "execute_result"
    },
    {
     "data": {
      "image/png": "[encoded data removed]",
      "text/plain": [
       "<Figure size 432x288 with 1 Axes>"
      ]
     },
     "metadata": {
      "needs_background": "light"
     },
     "output_type": "display_data"
    }
   ],
   "source": [
    "sns.lineplot(data=df_sp, x='Date',y='Close')\n",
    "sns.lineplot(data=df_companies, x='Date',y='Close')"
   ]
  },
  {
   "cell_type": "markdown",
   "metadata": {},
   "source": [
    "After that, we plotted a line graph to determine the close rate for S&P 500 over time and a separate line graph for the combined close of all of the companies from the hospitality industry. These graphs allowed us to see the realtive distribution of each but to get more specific information, we overaid the two graphs on top of each other in the same plot to see were they more closely correlated."
   ]
  },
  {
   "cell_type": "code",
   "execution_count": 22,
   "metadata": {},
   "outputs": [
    {
     "data": {
      "image/png": "[encoded data removed]",
      "text/plain": [
       "<Figure size 432x288 with 1 Axes>"
      ]
     },
     "metadata": {
      "needs_background": "light"
     },
     "output_type": "display_data"
    }
   ],
   "source": [
    "y_axis = df_hp_sp500['Ratio']\n",
    "x_axis = df_hp_sp500['Date']\n",
    "\n",
    "plt.plot(x_axis, y_axis)\n",
    "plt.title('2018-2019 Ratio')\n",
    "plt.xlabel('Date')\n",
    "plt.ylabel('Ratio')\n",
    "plt.show()"
   ]
  },
  {
   "cell_type": "markdown",
   "metadata": {},
   "source": [
    "We then plotted a line graph for the ratio between these two variables to show precisely how well these two variables correlated. If the line graph stayed constant around 1, we would have known that they two variables were closely correlated and thus had a strong positive relationship. Since this wasn't the case, we can assume that there are other facts which impacted S&P 500 at a time where it did not impact the hospitality industry. Although these factors are still no completely determined, we can assume that seasonal travelling (which impacts the hospitality industry but not S&P 500) could we one such factor."
   ]
  },
  {
   "cell_type": "code",
   "execution_count": 23,
   "metadata": {},
   "outputs": [
    {
     "data": {
      "image/png": "[encoded data removed]",
      "text/plain": [
       "<Figure size 432x288 with 1 Axes>"
      ]
     },
     "metadata": {
      "needs_background": "light"
     },
     "output_type": "display_data"
    }
   ],
   "source": [
    "y_axis = df_hp_sp500['Relative_Diff_Ratio']\n",
    "x_axis = df_hp_sp500['Date']\n",
    "\n",
    "plt.plot(x_axis, y_axis)\n",
    "plt.title('2018-2019 Relative_Diff_Ratio')\n",
    "plt.xlabel('Date')\n",
    "plt.ylabel('Relative_Diff_Ratio')\n",
    "plt.show()"
   ]
  },
  {
   "cell_type": "markdown",
   "metadata": {},
   "source": [
    "We plotted the relative difference ratio which measured the rate of change between the two variables. Based on this graph, we were clearly able to see where there were outliers in the dataset as they would cause huge spike in the graph. This made us conclude which outliers to remove and we went about the process of removing them."
   ]
  },
  {
   "cell_type": "code",
   "execution_count": 24,
   "metadata": {},
   "outputs": [
    {
     "name": "stdout",
     "output_type": "stream",
     "text": [
      "8      118.630959\n",
      "99      55.547175\n",
      "253     87.871780\n",
      "262    124.793751\n",
      "320     92.435902\n",
      "433    147.312824\n",
      "440    158.650026\n",
      "Name: Relative_Diff_Ratio, dtype: float64\n"
     ]
    }
   ],
   "source": [
    "index = df_hp_sp500.index[df_hp_sp500['Relative_Diff_Ratio'] > 50 ].tolist()\n",
    "print(df_hp_sp500['Relative_Diff_Ratio'][index])"
   ]
  },
  {
   "cell_type": "code",
   "execution_count": 25,
   "metadata": {},
   "outputs": [],
   "source": [
    "df_hp_sp500 = df_hp_sp500.drop(index)"
   ]
  },
  {
   "cell_type": "code",
   "execution_count": 26,
   "metadata": {},
   "outputs": [
    {
     "name": "stdout",
     "output_type": "stream",
     "text": [
      "63    -553.386917\n",
      "330    -56.993607\n",
      "Name: Relative_Diff_Ratio, dtype: float64\n"
     ]
    }
   ],
   "source": [
    "index = df_hp_sp500.index[df_hp_sp500['Relative_Diff_Ratio'] < -50 ].tolist()\n",
    "print(df_hp_sp500['Relative_Diff_Ratio'][index])"
   ]
  },
  {
   "cell_type": "code",
   "execution_count": 27,
   "metadata": {},
   "outputs": [],
   "source": [
    "df_hp_sp500 = df_hp_sp500.drop(index)"
   ]
  },
  {
   "cell_type": "code",
   "execution_count": 28,
   "metadata": {
    "scrolled": true
   },
   "outputs": [
    {
     "data": {
      "image/png": "[encoded data removed]",
      "text/plain": [
       "<Figure size 432x288 with 1 Axes>"
      ]
     },
     "metadata": {
      "needs_background": "light"
     },
     "output_type": "display_data"
    }
   ],
   "source": [
    "y_axis = df_hp_sp500['Relative_Diff_Ratio']\n",
    "x_axis = df_hp_sp500['Date']\n",
    "\n",
    "plt.plot(x_axis, y_axis)\n",
    "plt.title('2018-2019 Relative_Diff_Ratio')\n",
    "plt.xlabel('Date')\n",
    "plt.ylabel('Relative_Diff_Ratio')\n",
    "plt.show()"
   ]
  },
  {
   "cell_type": "markdown",
   "metadata": {},
   "source": [
    "After removing the outliers, we see that this distribution is much more approachable and is a better representation of the comparision between the two variables. "
   ]
  },
  {
   "cell_type": "code",
   "execution_count": 29,
   "metadata": {},
   "outputs": [
    {
     "data": {
      "text/plain": [
       "<AxesSubplot:xlabel='Relative_Diff_Ratio', ylabel='Count'>"
      ]
     },
     "execution_count": 29,
     "metadata": {},
     "output_type": "execute_result"
    },
    {
     "data": {
      "image/png": "[encoded data removed]",
      "text/plain": [
       "<Figure size 432x288 with 1 Axes>"
      ]
     },
     "metadata": {
      "needs_background": "light"
     },
     "output_type": "display_data"
    }
   ],
   "source": [
    "sns.histplot(df_hp_sp500['Relative_Diff_Ratio'],kde=False, bins=30, color=\"dimgrey\")"
   ]
  },
  {
   "cell_type": "markdown",
   "metadata": {},
   "source": [
    "This histogram shows the distribution of the relative difference ratio between the two variables. It also shows how this distribution is approximately normal is a bell shaped curve which you can tell by looking at the shape of the graph. "
   ]
  },
  {
   "cell_type": "code",
   "execution_count": null,
   "metadata": {},
   "outputs": [],
   "source": []
  }
 ],
 "metadata": {
  "kernelspec": {
   "display_name": "Python 3 (ipykernel)",
   "language": "python",
   "name": "python3"
  },
  "language_info": {
   "codemirror_mode": {
    "name": "ipython",
    "version": 3
   },
   "file_extension": ".py",
   "mimetype": "text/x-python",
   "name": "python",
   "nbconvert_exporter": "python",
   "pygments_lexer": "ipython3",
   "version": "3.9.5"
  }
 },
 "nbformat": 4,
 "nbformat_minor": 2
}
