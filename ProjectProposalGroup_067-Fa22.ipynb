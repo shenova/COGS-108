{
 "cells": [
  {
   "cell_type": "markdown",
   "metadata": {},
   "source": [
    "# COGS 108 - Final Project Proposal"
   ]
  },
  {
   "cell_type": "markdown",
   "metadata": {},
   "source": [
    "# Names\n",
    "\n",
    "- Kevin Su\n",
    "- Sujana Nagasuri\n",
    "- Muskaan Bajaj\n",
    "- Shenova Davis\n",
    "- Jahnavi Handral"
   ]
  },
  {
   "cell_type": "markdown",
   "metadata": {},
   "source": [
    "# Research Question"
   ]
  },
  {
   "cell_type": "markdown",
   "metadata": {},
   "source": [
    
    "\n",
    "From 2018-2019, was there a statistically positive significant correlation between tourism in terms of the success of the hospitality industry and its primary categories (travel & tourism, food & beverage, lodging, outdoor/recreation) and the overall health of the stock market determined by the S&P 500?\n",
    "\n"
   ]
  },
  {
   "cell_type": "markdown",
   "metadata": {},
   "source": [
    "## Background and Prior Work"
   ]
  },
  {
   "cell_type": "markdown",
   "metadata": {},
   "source": [
    "\n",
    
    "As tourism develops into one of the biggest revenue-generating industries in the US, it has become an important lifestyle of the current generation and a huge contributor to the current economy. One of the other major contributors to the current economy, if not the biggest, is the public trading stock. While more than half of the American population owns stock, this project is intended to explore the relationship between tourism in the U.S and the status of the US stock market.\n",
    "\n",
    "This research is mainly going to focus on 11 of the stock closely related to the tourist industry: Marriott International Inc, Marriott Vacations Worldwide Corp, Hilton Worldwide Holdings, InterContinental Holdings Group, Expedia Group, Bookings Group, PepsiCo, Tyson, Nestle and Walt Disney. The S&P 500 index tracker would be used as a main indicator of the stock market. Previous study done by Dr. Tsai at University of Nevada has gone through the correlation of stock prices and interest rate on tourism consumption in a very detailed manner. He utilized multiple stock index indicators and tourism-related data and came up with the conclusion that stock prices and interest rates had a positive impact on tourism consumption from 1989 to 1999 [2]. Another research published by Hindawi used a computable general equilibrium model to show there is a close correlation between tourism and economy and how tourism can aid economic growth rapidly [1].\n",
    "\n",
    "Overall, studies have confirmed that there is a significant correlation between the tourism industry and the economy, but the specific relationship between S&P 500 stocks and its impact on tourism of five of the most visited cities in the U.S remain unknown.\n",
    "\n",
 
    "Reference:\n",
    "[1] https://www.hindawi.com/journals/jmath/2022/4275698/\n",
    "“The quantitative analysis results made by using the econometric model fully show that the development of tourism is closely related to the economy, and the development of tourism can drive the rapid development of the economy.“\n",
    "\n",
    "[2] https://journals.sagepub.com/doi/pdf/10.1177/21582440211040120\n",
    "“For Las Vegas, Orlando, and the U.S. as a whole, interest rates did have certain impacts on tourism consumption, given the discussion in summary of findings in chapter four, and the findings were similar to some of prior research. “\n",
    "“ As described in chapter one and two, prior studies showed that stock prices have positive effects on consumer spending. “\n",
    "\n"
   ]
  },
  {
   "cell_type": "markdown",
   "metadata": {},
   "source": [
    "# Hypothesis\n"
   ]
  },
  {
   "cell_type": "markdown",
   "metadata": {},
   "source": [
    "\n",
   
    "Our team wants to determine whether or not there is a correlation between the health of the United States stock market and tourism through the local economies of various popular tourist destination cities in America. Through the 11 stocks we are looking at, we are also aiming to determine a popularity ranking amongst them; determining which stock was more popular in relation to the stock market at the time of year.We think the outcome will be that there is a positive correlation between the stock market and tourism revenue within the United States however it will be interesting to determine which stock did the well. We think this will be the case due to the fact that a good economy means that people feel more secure in spending money on travelling."
   ]
  },
  {
   "cell_type": "markdown",
   "metadata": {},
   "source": [
    "# Data"
   ]
  },
  {
   "cell_type": "markdown",
   "metadata": {},
   "source": [
    "Our ideal dataset would include how many people visited each popular city in different time frames and the S&P 500 of the 5 cities during those time frames. Observations every two weeks for a two or three year period would be convenient for a total of about 60 observations across 5 cities total. This data would best be stored in a CSV and would be collected from the US Government and Tourism industry as well as the stock market analysts.\n",
    "We found some data sets from the National Travel and Tourism Office (NTTO) and the US Travel Association. Though, it may be collected at different intervals and can only be accessed with a paid membership. We can get our data about the stock market from datahub. This data might prove difficult to wrangle and access but we plan on working to also utilize sites such as the government websites regarding tourism to find more specific information about the number of travelers to certain cities. Our ideal data would have a breakdown of the tourists to certain cities at the appropriate intervals but we might have to resort to using data that measures in broader categories as it is hard to determine biweekly the number of tourists."
   ]
  },
  {
   "cell_type": "markdown",
   "metadata": {},
   "source": [
    "# Ethics & Privacy"
   ]
  },
  {
   "cell_type": "markdown",
   "metadata": {},
   "source": [
    
    "\n",
    "Acknowledge and address any ethics & privacy related issues of your question(s), proposed dataset(s), and/or analyses. Use the information provided in lecture to guide your group discussion and thinking. If you need further guidance, check out [Deon's Ethics Checklist](http://deon.drivendata.org/#data-science-ethics-checklist). In particular:\n",
    "\n",
    "There should not be any issues with terms of use if we buy the data sets we use legally. The data collected also does not violate privacy because it is stored anonymously and not associated with any individuals. Additionally, the data was collected by national organizations so it should be collected credibly. The conclusions drawn from the data will also probably not be used to create models that are used to make impactful or influential decisions. To detect these specific biases during the process of the analysis, we will consider if there are any factors that would cause confirmation bias, selection bias, outliers, or confounding variables. As of now, we don’t anticipate any specific problems but there may be an issue in terms of individual consumer’s travel data but we don’t anticipate needing such a specific data set. If we come across issues, we plan to explore other mechanisms of analysis or alternate wrangling techniques that do not involve  individual consumers’ travel data."
   ]
  },
  {
   "cell_type": "markdown",
   "metadata": {},
   "source": [
    "# Team Expectations "
   ]
  },
  {
   "cell_type": "markdown",
   "metadata": {},
   "source": [
   "\n",
    "* *We will agree to meet at least twice a week or at least check in to make sure we are working efficiently on the project.*\n",
    "* *We will communicate if we are unable to meet and be open about how much work we will be able to get done.*\n",
    "* *We will all finish our assigned task and communicate if we are unable to do so.*\n",
    "* *We will use text messages to set up times and communicate and zoom/in-person meetings to meet up.*\n",
    "* *If conflicts arise, we should be able to talk about it and work towards a resolution.*\n"
   ]
  },
  {
   "cell_type": "markdown",
   "metadata": {},
   "source": [
    "# Project Timeline Proposal"
   ]
  },
  {
   "cell_type": "markdown",
   "metadata": {},
   "source": [
   
    "\n",
    "\n",
    "| Meeting Date  | Meeting Time| Completed Before Meeting  | Discuss at Meeting |\n",
    "|---|---|---|---|\n",
    "| 10/23  |  5 PM | Read & Think about COGS 108 expectations; brainstorm topics/questions  | Group chat set up, determined exact topic and details and determined if our chosen topic was feasible and divided up the individual sections we wanted to tackle. |  \n",
    "| 10/24  |  9 PM |  Complete our divided up sections| Go over the draft for the proposal and see if everything is feasible or not. |  \n",
    "| 10/27  | 9 PM  | Keep working on finding datasets  | Share our datasets |\n",
    "| 10/30  | 5 PM  | Search for ideal datasets | Find ideal datasets and extract the data in a manner that ensures that they satisfy all of our requirements and factors. |\n",
    "| 11/3  | 9 PM  | Prepare to meet and check in| Start the data wrangling process |\n",
    "|11/6  | 5 PM  | Import & Wrangle Data (stock S&P 500); tourism for popular cities| Review/Edit wrangling data; Discuss Analysis Plan and finish checkpoint  |\n",
    "| 11/10  | 9 PM  | Keep wrangling data | Review the edits and decide what the best way to analyze the data would be |\n",
    "| 11/13  | 5 PM  | Finalize wrangling/EDA; Begin Analysis (S&P and 2 city analysis) | Discuss/edit Analysis; Complete the project check-in and double check with TA to make sure everything is going well |\n",
    "| 11/17  | 9 PM  | Work on analysis| Start outlining the results section |\n",
    "| 11/20  | 5 PM  | Complete analysis; Draft results/conclusion/discussion (3 city analysis) | DDiscuss/edit full project & keep working and finish checkpoint |\n",
    "| 11/24  | 9 PM  | Wrap up conclusions | Make sure to look over the conclusions and make sure they all make sense - check in with a TA if needed |\n",
    "| 11/27  | 5 PM  | Make sure to keep working on the ata gathering and ensure that everything is in place | Discuss what we have left to do before the end of the period |\n",
    "| 12/9  | Before 11:59 PM  | Rehearse individual parts work on scripts | Turn in Final Project & Group Project Surveys |\n",
    "| N/A  | N/A | Set up additional meetings as needed. |"
   ]
  },
  {
   "cell_type": "code",
   "execution_count": null,
   "metadata": {},
   "outputs": [],
   "source": []
  }
 ],
 "metadata": {
  "kernelspec": {
   "display_name": "Python 3",
   "language": "python",
   "name": "python3"
  },
  "language_info": {
   "codemirror_mode": {
    "name": "ipython",
    "version": 3
   },
   "file_extension": ".py",
   "mimetype": "text/x-python",
   "name": "python",
   "nbconvert_exporter": "python",
   "pygments_lexer": "ipython3",
   "version": "3.8.3"
  }
 },
 "nbformat": 4,
 "nbformat_minor": 2
}
